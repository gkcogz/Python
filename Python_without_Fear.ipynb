{
  "nbformat": 4,
  "nbformat_minor": 0,
  "metadata": {
    "colab": {
      "provenance": [],
      "gpuType": "T4",
      "toc_visible": true,
      "include_colab_link": true
    },
    "kernelspec": {
      "name": "python3",
      "display_name": "Python 3"
    },
    "language_info": {
      "name": "python"
    }
  },
  "cells": [
    {
      "cell_type": "markdown",
      "metadata": {
        "id": "view-in-github",
        "colab_type": "text"
      },
      "source": [
        "<a href=\"https://colab.research.google.com/github/gkcogz/Python/blob/Main/Python_without_Fear.ipynb\" target=\"_parent\"><img src=\"https://colab.research.google.com/assets/colab-badge.svg\" alt=\"Open In Colab\"/></a>"
      ]
    },
    {
      "cell_type": "markdown",
      "source": [
        "# Accessorial Functions\n",
        "\n"
      ],
      "metadata": {
        "id": "jNeOzrmxTtMm"
      }
    },
    {
      "cell_type": "code",
      "source": [
        "import time\n",
        "\n",
        "# Start timer\n",
        "start_time = time.perf_counter() # OR start_time = time.time()\n",
        "\n",
        "# Code to be timed\n",
        "# ...\n",
        "\n",
        "# End timer\n",
        "end_time = time.perf_counter() # OR end_time = time.time()\n",
        "\n",
        "# Calculate elapsed time\n",
        "elapsed_time = end_time - start_time\n",
        "print(\"Elapsed time: \", elapsed_time)"
      ],
      "metadata": {
        "id": "YMP0lCezxl-2"
      },
      "execution_count": null,
      "outputs": []
    },
    {
      "cell_type": "markdown",
      "source": [
        "# Distinct Heating w. Python"
      ],
      "metadata": {
        "id": "Iyu1O3BPX81l"
      }
    },
    {
      "cell_type": "code",
      "source": [
        "#import os\n",
        "#os.getcwd()\n",
        "#os.listdir()\n",
        "\n",
        "# We added 'DiGriPy' tp Python module search path.\n",
        "import sys\n",
        "sys.path.append('/content/DiGriPy')  # Assuming DiGriPy is the directory containing the digripy module\n",
        "\n",
        "# Now you can import and use the digripy module\n",
        "#from digripy.run import main\n",
        "\n",
        "# Call your main function with the appropriate arguments\n",
        "#main([\"-i\", \"tests/example80C\", \"-l\", \"20\"])\n"
      ],
      "metadata": {
        "id": "s1HyehfcSqI_"
      },
      "execution_count": null,
      "outputs": []
    },
    {
      "cell_type": "code",
      "source": [
        "# pip stands for package manager\n",
        "# nvcc stands for nvidia cuda compiler.\n",
        "\n",
        "#!pip install cupy\n",
        "#!pip install --upgrade pip setuptools\n",
        "#!nvcc --version # To find the version of the CUDA Toolkit\n",
        "\n",
        "#!git clone https://github.com/lvorspel/DiGriPy.git\n",
        "\n",
        "#! python -m digripy.run -i tests/example80C -l 20\n",
        "\n",
        "#%cd DiGriPy\n",
        "\n",
        "# You may need to set the LD_LIBRARY_PATH environment variable to ensure that dynamically\n",
        "# linked libraries (such as those provided by CUDA or ROCm) are found by your applications while running your GPU.\n",
        "\n",
        "! export LD_LIBRARY_PATH=/usr/local/cuda/lib64${LD_LIBRARY_PATH:+:${LD_LIBRARY_PATH}}\n",
        "! export LD_LIBRARY_PATH=/opt/rocm/lib:${LD_LIBRARY_PATH:+:${LD_LIBRARY_PATH}}\n",
        "\n",
        "! echo $LD_LIBRARY_PATH\n"
      ],
      "metadata": {
        "colab": {
          "base_uri": "https://localhost:8080/"
        },
        "id": "zs6cH6A2VBLu",
        "outputId": "3418dc45-d40c-4c38-e36d-503312d8b1a5"
      },
      "execution_count": null,
      "outputs": [
        {
          "output_type": "stream",
          "name": "stdout",
          "text": [
            "/usr/local/nvidia/lib:/usr/local/nvidia/lib64\n"
          ]
        }
      ]
    },
    {
      "cell_type": "code",
      "source": [
        "! python -m digripy.run -i tests/example80C -l 20"
      ],
      "metadata": {
        "id": "84DoQUgVeXPo"
      },
      "execution_count": null,
      "outputs": []
    },
    {
      "cell_type": "markdown",
      "source": [
        "Radiation Calculators\n",
        "by Jabir Jamal\n",
        "\n",
        "\n"
      ],
      "metadata": {
        "id": "qTPwfVzRdcmU"
      }
    },
    {
      "cell_type": "code",
      "source": [
        "#About the following calculation:\n",
        "#try; except dual is used to prevent crushing.\n",
        "# e (emissivity) has to be known.\n",
        "# if; break dual is used to create local e, t variables.\n",
        "#a, b, c, e, t; all of them are global variables, because no function is defined.\n",
        "#note round() function is used.\n",
        "\n",
        "import math\n",
        "\n",
        "while True:\n",
        "    try:\n",
        "        b = float(input(\"Enter length of the emitting panel: \"))\n",
        "        a = float(input(\"Enter width of the emitting panel: \"))\n",
        "        c = float(input(\"Enter distance between the emitting panel and the plane element: \"))\n",
        "        break\n",
        "    except:\n",
        "        print(\"Error! Enter a valid number\")\n",
        "\n",
        "while True:\n",
        "    e = float(input(\"Enter emissivity of emitter (0 < e <= 1): \"))\n",
        "    if 0 < e <= 1:\n",
        "        break\n",
        "    print(\"Error! Enter a valid number between 0 and 1\")\n",
        "\n",
        "while True:\n",
        "    t = float(input(\"Enter temperature of the emitter in Kelvin: \"))\n",
        "    if t>273.15:\n",
        "        break\n",
        "    print(\"Enter a value greater than 273.15 K\")\n",
        "\n",
        "X = a/c\n",
        "Y = b/c\n",
        "\n",
        "F = (0.5/math.pi)*(((X/((1+X**2)**0.5))*(math.atan(Y/((1+X**2)**0.5))))+((Y/((1+Y**2)**0.5))*(math.atan(X/((1+Y**2)**0.5)))))\n",
        "print(\"View factor of the panel is \" + str(F))\n",
        "\n",
        "s = 5.670374*10**(-8)\n",
        "print(\"The value of Stefan-Boltzman constant is: \" + str(s) + \"W/m\\N{SUPERSCRIPT TWO} K\\N{SUPERSCRIPT FOUR}\")\n",
        "\n",
        "tot_rad_emitted = e*s*t**4\n",
        "print(\"Total radiant heat emitted from the radiating panel is: \" + str(round(tot_rad_emitted,2)) + \" kW/m²\")\n",
        "\n",
        "rad_heat_received = tot_rad_emitted * F\n",
        "print(\"Total radiant heat received at the plane element is: \" + str(round(rad_heat_received,2)) + \" kW/m²\")"
      ],
      "metadata": {
        "colab": {
          "base_uri": "https://localhost:8080/"
        },
        "id": "BUh0lRCFYDL8",
        "outputId": "b6b4757c-2b47-4646-8c7f-89cc2249b2a7"
      },
      "execution_count": null,
      "outputs": [
        {
          "output_type": "stream",
          "name": "stdout",
          "text": [
            "Enter length of the emitting panel: 2\n",
            "Enter width of the emitting panel: 3\n",
            "Enter distance between the emitting panel and the plane element: 4\n",
            "Enter emissivity of emitter (0 < e <= 1): 0.5\n",
            "Enter temperature of the emitter in Kelvin: 298\n",
            "View factor of the panel is 0.0783917916251936\n",
            "The value of Stefan-Boltzman constant is: 5.670374e-08W/m² K⁴\n",
            "Total radiant heat emitted from the radiating panel is: 223.59 kW/m²\n",
            "Total radiant heat received at the plane element is: 17.53 kW/m²\n"
          ]
        }
      ]
    },
    {
      "cell_type": "code",
      "source": [
        "# From math library: .pi, .atan are imported.\n",
        "# While loop is used, till the right value is entered.\n",
        "\n",
        "\n",
        "import math\n",
        "\n",
        "while True:\n",
        "    try:\n",
        "        b = float(input(\"Enter length of the emitting panel: \"))\n",
        "        a = float(input(\"Enter width of the emitting panel: \"))\n",
        "        c = float(input(\"Enter distance between the emitting panel and the plane element: \"))\n",
        "        break\n",
        "    except:\n",
        "        print(\"Error! Enter a valid number\")\n",
        "\n",
        "while True:\n",
        "    e = float(input(\"Enter emissivity of emitter (0 < e <= 1): \"))\n",
        "    if 0 < e <= 1:\n",
        "        break\n",
        "    print(\"Error! Enter a valid number between 0 and 1\")\n",
        "\n",
        "while True:\n",
        "    t = float(input(\"Enter temperature of the emitter in Kelvin: \"))\n",
        "    if t>273.15:\n",
        "        break\n",
        "    print(\"Enter a value greater than 273.15 K\")\n",
        "\n",
        "X = a/b\n",
        "Y = c/b\n",
        "\n",
        "F = (0.5/math.pi)*((math.atan(1/Y))-((Y/((X**2+Y**2)**0.5))*(math.atan(1/((X**2+Y**2)**0.5)))))\n",
        "print(\"View factor of the panel is \" + str(F))\n",
        "\n",
        "s = 5.670374*10**(-8)\n",
        "print(\"The value of Stefan-Boltzman constant is: \" + str(s) + \"W/m²K\\N{SUPERSCRIPT FOUR}\")\n",
        "\n",
        "\n",
        "tot_rad_emitted = e*s*t**4\n",
        "print(\"Total radiant heat emitted from the radiating panel is: \" + str(round(tot_rad_emitted,2)) + \" kW/m²\")\n",
        "\n",
        "rad_heat_received = tot_rad_emitted * F\n",
        "print(\"Total radiant heat received at the plane element is: \" + str(round(rad_heat_received,2)) + \" kW/m²\")"
      ],
      "metadata": {
        "colab": {
          "base_uri": "https://localhost:8080/"
        },
        "id": "7wRAwSCgZP1B",
        "outputId": "68329ff4-3c14-4357-bbe4-3a7358a62eda"
      },
      "execution_count": null,
      "outputs": [
        {
          "output_type": "stream",
          "name": "stdout",
          "text": [
            "Enter length of the emitting panel: 10\n",
            "Enter width of the emitting panel: 2\n",
            "Enter distance between the emitting panel and the plane element: 2\n",
            "Enter emissivity of emitter (0 < e <= 1): 0.5\n",
            "Enter temperature of the emitter in Kelvin: 298\n",
            "View factor of the panel is 0.07282753930456516\n",
            "The value of Stefan-Boltzman constant is: 5.670374e-08W/m²K⁴\n",
            "Total radiant heat emitted from the radiating panel is: 223.59 kW/m²\n",
            "Total radiant heat received at the plane element is: 16.28 kW/m²\n"
          ]
        }
      ]
    },
    {
      "cell_type": "markdown",
      "source": [],
      "metadata": {
        "id": "_90iDE4IlB87"
      }
    },
    {
      "cell_type": "code",
      "source": [
        "# The following code is similar to the first one, but there four different panels next to each other are considered.\n",
        "\n",
        "import math\n",
        "\n",
        "while True:\n",
        "    try:\n",
        "        f1b = float(input(\"Enter height of the emitting panel F1, F_1b: \"))\n",
        "        f1a = float(input(\"Enter length of the emitting panel F1, F_1a: \"))\n",
        "        f2b = float(input(\"Enter height of the emitting panel F2, F_2b: \"))\n",
        "        f2a = float(input(\"Enter length of the emitting panel F2, F_2a: \"))\n",
        "\n",
        "        f3b = float(input(\"Enter height of the emitting panel F3, F_3b: \"))\n",
        "        f3a = float(input(\"Enter length of the emitting panel F3, F_3a: \"))\n",
        "        f4b = float(input(\"Enter height of the emitting panel F4, F_4b: \"))\n",
        "        f4a = float(input(\"Enter length of the emitting panel F4, F_4a: \"))\n",
        "\n",
        "        c = float(input(\"Enter distance of the plane element dA1 from the radiating plane parallel element F: \"))\n",
        "        break\n",
        "    except:\n",
        "        print(\"Error! Enter a valid number\")\n",
        "\n",
        "while True:\n",
        "    e = float(input(\"Enter emissivity of emitter (0 < e <= 1): \"))\n",
        "    if 0 < e <= 1:\n",
        "        break\n",
        "    print(\"Error! Enter a valid number between 0 and 1\")\n",
        "\n",
        "while True:\n",
        "    t = float(input(\"Enter temperature of the emitter in Kelvin: \"))\n",
        "    if t>273.15:\n",
        "        break\n",
        "    print(\"Enter a value greater than 273.15 K\")\n",
        "\n",
        "s = 5.670374*10**(-8)\n",
        "print(\"The value of Stefan-Boltzman constant is: \" + str(s) + \"W/m²K\\N{SUPERSCRIPT FOUR}\")\n",
        "\n",
        "X1 = f1b/c\n",
        "\n",
        "Y1 = f1a/c\n",
        "\n",
        "F1 = (0.5/math.pi)*(((X1/((1+X1**2)**0.5))*(math.atan(Y1/((1+X1**2)**0.5))))+\\\n",
        "                    ((Y1/((1+Y1**2)**0.5))*(math.atan(X1/((1+Y1**2)**0.5)))))\n",
        "\n",
        "print(\"View factor of panel F1 is \" + str(F1))\n",
        "\n",
        "X2 = f2a/c\n",
        "\n",
        "Y2 = f2b/c\n",
        "\n",
        "F2 = (0.5/math.pi)*(((X2/((1+X2**2)**0.5))*(math.atan(Y2/((1+X2**2)**0.5))))+\\\n",
        "                    ((Y2/((1+Y2**2)**0.5))*(math.atan(X2/((1+Y2**2)**0.5)))))\n",
        "\n",
        "print(\"View factor of panel F2 is \" + str(F2))\n",
        "\n",
        "X3 = f3a/c\n",
        "\n",
        "Y3 = f3b/c\n",
        "\n",
        "F3 = (0.5/math.pi)*(((X3/((1+X3**2)**(0.5)))*(math.atan(Y3/((1+X3**2)**(0.5)))))+\\\n",
        "                    ((Y3/((1+Y3**2)**(0.5)))*(math.atan(X3/((1+Y3**2)**(0.5))))))\n",
        "\n",
        "print(\"View factor of panel F3 is \" + str(F3))\n",
        "\n",
        "X4 = f4b/c\n",
        "\n",
        "Y4 = f4a/c\n",
        "\n",
        "F4 = (0.5/math.pi)*(((X4/((1+X4**2)**0.5))*(math.atan(Y4/((1+X4**2)**0.5))))+\\\n",
        "                    ((Y4/((1+Y4**2)**0.5))*(math.atan(X4/((1+Y4**2)**0.5)))))\n",
        "\n",
        "print(\"View factor of panel F4 is \" + str(F4))\n",
        "\n",
        "F = F1+F2+F3+F4\n",
        "\n",
        "print(\"Combined view factor of the emitter panel F is \" + str(F))\n",
        "\n",
        "tot_rad_emitted = e*s*t**4\n",
        "print(\"Total radiant heat emitted from the radiating panel is: \" + str(round(tot_rad_emitted,2)) + \" kW/m²\")\n",
        "\n",
        "rad_heat_received = F*tot_rad_emitted\n",
        "print(\"Total radiant heat received at the plane element is: \" + str(round(rad_heat_received,2)) + \" kW/m²\")\n"
      ],
      "metadata": {
        "id": "cZaOTU48kOoN"
      },
      "execution_count": null,
      "outputs": []
    },
    {
      "cell_type": "markdown",
      "source": [
        "# Chapter 11: File Ops"
      ],
      "metadata": {
        "id": "cZBDCWAi2LJZ"
      }
    },
    {
      "cell_type": "code",
      "source": [
        "import os\n",
        "#help(os)\n",
        "\n",
        "file_list = os.listdir()\n",
        "for item in file_list:\n",
        "  print(item)\n",
        "\n",
        "os.chdir('Python Txt') #--> invalid, google server?\n",
        "\n",
        "os.getcwd()"
      ],
      "metadata": {
        "colab": {
          "base_uri": "https://localhost:8080/",
          "height": 105
        },
        "id": "b4Xo6Abc2Oli",
        "outputId": "62208427-886e-4188-8a38-40c84cd04a6b"
      },
      "execution_count": null,
      "outputs": [
        {
          "output_type": "stream",
          "name": "stdout",
          "text": [
            ".config\n",
            ".ipynb_checkpoints\n",
            "Python Txt\n",
            "sample_data\n"
          ]
        },
        {
          "output_type": "execute_result",
          "data": {
            "text/plain": [
              "'/content/Python Txt'"
            ],
            "application/vnd.google.colaboratory.intrinsic+json": {
              "type": "string"
            }
          },
          "metadata": {},
          "execution_count": 15
        }
      ]
    },
    {
      "cell_type": "markdown",
      "source": [
        "Decode Roman Numerals"
      ],
      "metadata": {
        "id": "1VaHK85CQ5-M"
      }
    },
    {
      "cell_type": "code",
      "source": [
        "#Decode Roman Numerals\n",
        "#Modular Coding\n",
        "#Program looks for the appearance of letters or letter combinations in a particular order.\n",
        "\n",
        "rom_list = [('M', 1000), ('CM', 900), ('D', 500), ('CD', 400), ('C', 100), ('XC', 90), ('L', 50), ('XL', 40), ('X', 10), ('IX', 9), ('V', 5), ('IV', 4), ('I', 1)]\n",
        "\n",
        "amt = 0 #Gloval vars created here.\n",
        "romstr = ''\n",
        "\n",
        "def main():\n",
        "  global romstr   #Keeps romstr updated, treat it as global var.\n",
        "  romstr = input('Enter Roman numeral: ')\n",
        "  for item in rom_list:\n",
        "    decode_roman(item[0], item[1])\n",
        "  out_str = 'The equivalent number is {}.'\n",
        "  print(out_str.format(amt))\n",
        "\n",
        "def decode_roman(letters, n):\n",
        "  global amt, romstr\n",
        "  sz = len(letters)\n",
        "\n",
        "  #while len(romstr) >= sz and letters == romstr[:sz]:\n",
        "  while romstr.startswith(letters):    #----> Optimization.\n",
        "    amt += n\n",
        "    romstr = romstr[sz:]  #------> Remove sz characters from the front of romstr. Slicing is used effectively.\n",
        "\n",
        "main()"
      ],
      "metadata": {
        "colab": {
          "base_uri": "https://localhost:8080/"
        },
        "id": "CQ-I4yFqP-zL",
        "outputId": "7633b528-c8d6-4149-bbb4-3cac2a82b0a4"
      },
      "execution_count": null,
      "outputs": [
        {
          "output_type": "stream",
          "name": "stdout",
          "text": [
            "Enter Roman numeral: MCDXCII\n",
            "The equivalent number is 1492.\n"
          ]
        }
      ]
    },
    {
      "cell_type": "code",
      "source": [
        "#Exercices\n",
        "#Decode Roman Numerals\n",
        "#Modular Coding\n",
        "#Program looks for the appearance of letters or letter combinations in a particular order.\n",
        "\n",
        "rom_list = [('M', 1000), ('CM', 900), ('D', 500), ('CD', 400), ('C', 100), ('XC', 90), ('L', 50), ('XL', 40), ('X', 10), ('IX', 9), ('V', 5), ('IV', 4), ('I', 1)]\n",
        "\n",
        "amt = 0 #Global vars created here.\n",
        "romstr = ''\n",
        "\n",
        "def main():\n",
        "  global romstr   #Keeps romstr updated, treat it as global var.\n",
        "  romstr = input('Enter Roman numeral: ')\n",
        "  for item in rom_list:\n",
        "    decode_roman(item[0], item[1])\n",
        "  out_str = 'The equivalent number is {}.'\n",
        "  print(out_str.format(amt))\n",
        "\n",
        "def decode_roman(letters, n):\n",
        "  global amt, romstr  #You can not remove neither of them. #You need the statement global, so the function takes amt and romstr from outside.\n",
        "  sz = len(letters) # We do not need to directly use len() in [i:].\n",
        "\n",
        "  #while len(romstr) >= sz and letters == romstr[:sz]:\n",
        "  while romstr.startswith(letters):    #----> Optimization.\n",
        "    amt += n  #--------> A common error: Local variable 'amt' referenced before assignment, if you remove global amt.\n",
        "    romstr = romstr[sz:]  #------> Remove sz characters from the front of romstr. Slicing is used effectively.\n",
        "\n",
        "main()\n"
      ],
      "metadata": {
        "colab": {
          "base_uri": "https://localhost:8080/"
        },
        "id": "zi43G3RQVxu5",
        "outputId": "a13fff61-d86f-44e3-ff2a-237f6c98adc9"
      },
      "execution_count": null,
      "outputs": [
        {
          "output_type": "stream",
          "name": "stdout",
          "text": [
            "Enter Roman numeral: MCDXCII\n",
            "The equivalent number is 1492.\n"
          ]
        }
      ]
    },
    {
      "cell_type": "code",
      "source": [
        "#Remember\n",
        "a_list = [1,2,3]\n",
        "\n",
        "\n",
        "print(a_list[1:])\n",
        "print(a_list[:1])\n",
        "print(a_list[1:1])"
      ],
      "metadata": {
        "colab": {
          "base_uri": "https://localhost:8080/"
        },
        "id": "5T4DDG-ZU9R8",
        "outputId": "b9293f8d-0b0f-406a-e813-64fab1d0ed64"
      },
      "execution_count": null,
      "outputs": [
        {
          "output_type": "stream",
          "name": "stdout",
          "text": [
            "[2, 3]\n",
            "[1]\n",
            "[]\n"
          ]
        }
      ]
    },
    {
      "cell_type": "markdown",
      "source": [
        "Roman Numerals"
      ],
      "metadata": {
        "id": "oe3izikmgw7f"
      }
    },
    {
      "cell_type": "code",
      "source": [
        "#from_roman.py\n",
        "#This program converts numbers into Roman numeral format.\n",
        "#time() is used.\n",
        "import time\n",
        "\n",
        "amt = 0 #amt initialy regered to 0.\n",
        "def make_roman(letter, n): #Different values are passed to letter and n, see below: letters & numbers.\n",
        "  global amt #-----> the function decleares amt as global, so the value of amt gets updated after every run.\n",
        "  while amt >= n:\n",
        "    amt = amt-n\n",
        "    print(letter, end='')\n",
        "\n",
        "def main():\n",
        "  global amt\n",
        "  amt = int(input('Enter a number: '))\n",
        "  print('The Roman number is: ', end='')\n",
        "  #We do not need a separate print command, since the make_roman function already does it.\n",
        "  make_roman('M', 1000)\n",
        "  #The function continues till the current value of amt becomes less than n. The program tries subtracting other quantities and fails, until it gets to this function call.\n",
        "  make_roman('CM', 900)\n",
        "  make_roman('D', 500)\n",
        "  make_roman('CD', 400)\n",
        "  make_roman('C', 100)\n",
        "  make_roman('XC', 90)\n",
        "  make_roman('L', 50)\n",
        "  make_roman('XL', 40)\n",
        "  make_roman('X', 10)\n",
        "  make_roman('IX', 9)\n",
        "  make_roman('V', 5)\n",
        "  make_roman('IV', 4)\n",
        "  make_roman('I', 1)\n",
        "\n",
        "start_time = time.perf_counter()\n",
        "\n",
        "main()\n",
        "\n",
        "end_time = time.perf_counter()\n",
        "\n",
        "# Calculate elapsed time\n",
        "print()\n",
        "elapsed_time = end_time - start_time\n",
        "print(\"Elapsed time: \", elapsed_time)"
      ],
      "metadata": {
        "colab": {
          "base_uri": "https://localhost:8080/"
        },
        "id": "ORrr1knKgwUg",
        "outputId": "ed4c6dba-c7a6-4eff-d59e-a0c06d1525ee"
      },
      "execution_count": null,
      "outputs": [
        {
          "output_type": "stream",
          "name": "stdout",
          "text": [
            "Enter a number: 123\n",
            "The Roman number is: CXXIII\n",
            "Elapsed time:  2.5778576900011103\n"
          ]
        }
      ]
    },
    {
      "cell_type": "code",
      "source": [
        "for i in range(0,5):\n",
        "  print(i, end='a')"
      ],
      "metadata": {
        "colab": {
          "base_uri": "https://localhost:8080/"
        },
        "id": "10hpykMY8wp1",
        "outputId": "eb96d16a-fa62-4a36-8d54-56dd10ff6d5c"
      },
      "execution_count": null,
      "outputs": [
        {
          "output_type": "stream",
          "name": "stdout",
          "text": [
            "0a1a2a3a4a"
          ]
        }
      ]
    },
    {
      "cell_type": "code",
      "source": [
        "#Exercise\n",
        "#from_roman.py\n",
        "#This program converts numbers into Roman numeral format.\n",
        "#Both amt and rom_list are global.\n",
        "import time\n",
        "\n",
        "amt = 0 #amt initialy refered to 0.\n",
        "rom_list = [('M', 1000), ('CM', 900), ('D', 500), ('CD', 400), ('C', 100), ('XC', 90), ('L', 50), ('XL', 40), ('X', 10), ('IX', 9), ('V', 5), ('IV', 4), ('I', 1)]\n",
        "\n",
        "\n",
        "def make_roman(letter, n):\n",
        "  a_str = ''\n",
        "  global amt #-----> the function decleares amt as global, so the value of amt gets updated after every run.\n",
        "  while amt >= n: #Integer and tuple cannot be compared with >=.\n",
        "      amt -= n\n",
        "      a_str = a_str + letter #a_str global degil. 2 defa string'e letter'i ekledi.\n",
        "  print(a_str, end='') #Stringler normalde new linelara basilir ancak end ile bosluklari kaldirdik.\n",
        "\n",
        "def main():\n",
        "  global amt\n",
        "  amt = int(input('Enter a number: '))\n",
        "  print('The Roman number is: ', end='') #end='' boslugu devre disi birakti.\n",
        "  for item in rom_list: #item is a list in the tuple.\n",
        "    make_roman(item[0], item[1]) #call the 0th and 1st item. #----> This mistake took so much time.\n",
        "\n",
        "start_time = time.time()\n",
        "\n",
        "main()\n",
        "\n",
        "end_time = time.time()\n",
        "\n",
        "# Calculate elapsed time\n",
        "print()\n",
        "elapsed_time = end_time - start_time\n",
        "print(\"Elapsed time: \", elapsed_time)"
      ],
      "metadata": {
        "colab": {
          "base_uri": "https://localhost:8080/"
        },
        "id": "_BJ5za9tS5C7",
        "outputId": "4c7681ef-e061-45b2-f2a6-0083a675a9a3"
      },
      "execution_count": null,
      "outputs": [
        {
          "output_type": "stream",
          "name": "stdout",
          "text": [
            "Enter a number: 3056\n",
            "The Roman number is: MMMLVI\n",
            "Elapsed time:  2.210230827331543\n"
          ]
        }
      ]
    },
    {
      "cell_type": "code",
      "source": [
        "#Exercise 10.2.3\n",
        "#Runs only if the number > 1000, bacuse of remainder function.\n",
        "#Runs best in 1000s.\n",
        "\n",
        "import time\n",
        "\n",
        "\n",
        "rom_list = [('XM', 10000), ('M', 1000), ('CM', 900), ('D', 500), ('CD', 400), ('C', 100), ('XC', 90), ('L', 50), ('XL', 40), ('X', 10), ('IX', 9), ('V', 5), ('IV', 4), ('I', 1)]\n",
        "\n",
        "def make_roman(letter, n):\n",
        "\n",
        "  a_str = ''\n",
        "  global r\n",
        "\n",
        "  while r >= n:\n",
        "    r -= n\n",
        "    a_str += letter\n",
        "\n",
        "  print(a_str, end='')\n",
        "\n",
        "\n",
        "def mt(letter, n):\n",
        "\n",
        "  a_str = ''\n",
        "  global rt\n",
        "\n",
        "  while rt >= n:\n",
        "    rt -= n\n",
        "    a_str += letter\n",
        "\n",
        "  print(a_str, end='')\n",
        "\n",
        "\n",
        "\n",
        "def main():\n",
        "\n",
        "  global amt\n",
        "  amt = int(input('Enter a number: '))\n",
        "  global rt\n",
        "  rt = amt // 1000\n",
        "  global r\n",
        "  r = amt % 1000\n",
        "\n",
        "\n",
        "\n",
        "  print('The Roman number is: ', end='')\n",
        "  for item in rom_list:\n",
        "    mt(item[0], item[1])\n",
        "  print(' (M) ', end='')\n",
        "\n",
        "  for item in rom_list:\n",
        "    make_roman(item[0], item[1])\n",
        "\n",
        "\n",
        "\n",
        "start_time = time.time()\n",
        "\n",
        "main()\n",
        "\n",
        "end_time = time.time()\n",
        "\n",
        "print()\n",
        "elapsed_time = end_time - start_time\n",
        "print(\"Elapsed time: \", elapsed_time)"
      ],
      "metadata": {
        "colab": {
          "base_uri": "https://localhost:8080/"
        },
        "id": "Rjrn-_EIll7o",
        "outputId": "04fb9a1f-89d9-4726-d29b-b404af12eb41"
      },
      "execution_count": null,
      "outputs": [
        {
          "output_type": "stream",
          "name": "stdout",
          "text": [
            "Enter a number: 3056\n",
            "The Roman number is: III (M) LVI\n",
            "Elapsed time:  7.158048391342163\n"
          ]
        }
      ]
    },
    {
      "cell_type": "code",
      "source": [
        "\n",
        "def main(amt):\n",
        "   return amt % 1000\n",
        "\n",
        "main(3056)"
      ],
      "metadata": {
        "colab": {
          "base_uri": "https://localhost:8080/"
        },
        "id": "F80rBxCiifIs",
        "outputId": "bf7212f0-dc96-4480-b44b-db442bec61b6"
      },
      "execution_count": null,
      "outputs": [
        {
          "output_type": "execute_result",
          "data": {
            "text/plain": [
              "56"
            ]
          },
          "metadata": {},
          "execution_count": 78
        }
      ]
    },
    {
      "cell_type": "code",
      "source": [
        "def main():\n",
        "  global amt\n",
        "  amt = input('Enter a number: ')\n",
        "  amt = amt.split()\n",
        "  #amt = amt.strip('') #Gereksiz?\n",
        "  a_list=[]\n",
        "  a_list.append(amt)\n",
        "  print(amt)\n",
        "\n",
        "main()"
      ],
      "metadata": {
        "colab": {
          "base_uri": "https://localhost:8080/"
        },
        "id": "xo32hCR_mc9J",
        "outputId": "1fdf0ada-3956-4948-c229-af2d010ba081"
      },
      "execution_count": null,
      "outputs": [
        {
          "output_type": "stream",
          "name": "stdout",
          "text": [
            "Enter a number: 123\n",
            "['123']\n"
          ]
        }
      ]
    },
    {
      "cell_type": "markdown",
      "source": [
        "Beatles Personality Profile (BPP)"
      ],
      "metadata": {
        "id": "OFwh9gXQPjym"
      }
    },
    {
      "cell_type": "code",
      "source": [
        "#Beatles.py\n",
        "\n",
        "#This code like the one in the chapter advanced function techniques, contains modular coding.\n",
        "\n",
        "\n",
        "b = '' #Var. b created (Is this necessary?) No, it is not necessary. Once you declare b as global, no previous reference is needed.\n",
        "j_str = '''John Lennon. Witty, cheeky, sassy. You like to be the leader of your own band.'''\n",
        "p_str = '''Paul McCartney. You are popular, likable, and charismatic. You make a great impression.'''\n",
        "g_str = '''George Harrison. You are serious, reflective, and deeply commited to your work.'''\n",
        "r_str = '''Ringo Starr. You are lovable and just want everyone to get along.'''\n",
        "\n",
        "def main():\n",
        "  a = ask_q('Are you more Assertive or Supportive?', 'AS') #'AS' is the choices, i.e, 'AS' passed to choices argument.\n",
        "  if a == 'A':\n",
        "    are_assertive() # go to are_assertive.\n",
        "  else:\n",
        "    are_supportive()\n",
        "  print('You are a', b) #Global b is assumed.\n",
        "\n",
        "def are_assertive():\n",
        "  global b #declare b as global value. Otherwise, you get a reference error.\n",
        "  a = ask_q('Are you more Intellectual or Social?', 'IS') #Look, msg == 'question'.\n",
        "  if a == 'I': #a is the input by user. #return s[0], you get either I, S if s[0] (=a) == 'I'.\n",
        "    b = j_str #b is referred to j_str, global variable. It is enough to declare b as global, at least one variable should be referenced.\n",
        "  else:\n",
        "    b = p_str\n",
        "\n",
        "def are_supportive():\n",
        "  global b\n",
        "  a = ask_q('Are you more Intellectual or Social?', 'IS')\n",
        "  if a == 'I': #return s[0], you get either I, S if s[0] (=a) == 'I'.\n",
        "    b = g_str #b is referred to g_str\n",
        "  else:\n",
        "    b = r_str\n",
        "\n",
        "  # Ask Q (question) function.\n",
        "  #This function takes a prompt message and a set of acceptable choices. Will re-prompt until user gives one og the choices... First letter,\n",
        "  #either case, is accepted.\n",
        "\n",
        "def ask_q(msg, choices): #msg is the input, choices are the given options.\n",
        "  while True:\n",
        "    s = input(msg) #msg is variable, which means the other two functions has a statement referring to msg; specific to function.\n",
        "    s = s.upper() #convert input to uppercase\n",
        "    if s and s[0] in choices: #choices is also specific to function.\n",
        "        return s[0]\n",
        "    elif s and s[0] not in choices: #I turned out else and used elif instead.\n",
        "      print('Invalid Input! Try again.')\n",
        "      #else: #else saves main() from crashing.\n",
        "      print('Enter one of choices.')\n",
        "      print('First letter is sufficient.')\n",
        "\n",
        "main()\n"
      ],
      "metadata": {
        "id": "iRWlaYt3c0AQ",
        "colab": {
          "base_uri": "https://localhost:8080/"
        },
        "outputId": "c14b202c-8c98-464c-d361-af6c64786a42"
      },
      "execution_count": null,
      "outputs": [
        {
          "output_type": "stream",
          "name": "stdout",
          "text": [
            "Are you more Assertive or Supportive?S\n",
            "Are you more Intellectual or Social?I\n",
            "You are a George Harrison. You are serious, reflective, and deeply commited to your work.\n"
          ]
        }
      ]
    },
    {
      "cell_type": "code",
      "source": [
        "#Exercise\n",
        "#Beatles.py\n",
        "\n",
        "#This code like the one in the chapter advanced function techniques, contains modular coding.\n",
        "\n",
        "\n",
        "b = '' #Var. b created (Is this necessary?) No, it is not necessary. Once you declare b as global, no previous reference is needed.\n",
        "j_str = '''John Lennon. Witty, cheeky, sassy. You like to be the leader of your own band.'''\n",
        "p_str = '''Paul McCartney. You are popular, likable, and charismatic. You make a great impression.'''\n",
        "g_str = '''George Harrison. You are serious, reflective, and deeply commited to your work.'''\n",
        "r_str = '''Ringo Starr. You are lovable and just want everyone to get along.'''\n",
        "\n",
        "def main():\n",
        "  a = ask_q('Are you more Assertive or Supportive?', 'AS') #'AS' is the choices, i.e, 'AS' passed to choices argument.\n",
        "  if a == 'A':\n",
        "    b = are_assertive() # go to are_assertive. #You can return b from the function and use it in the main(), it does not have to be written as b necessarily.\n",
        "  else:\n",
        "    b = are_supportive()\n",
        "  print('You are a', b) #Global b is assumed.\n",
        "\n",
        "def are_assertive():\n",
        "  #global b #declare b as global value. Otherwise, you get a reference error.\n",
        "  a = ask_q('Are you more Intellectual or Social?', 'IS') #Look, msg == 'question'.\n",
        "  if a == 'I': #a is the input by user. #return s[0], you get either I, S if s[0] (=a) == 'I'.\n",
        "    b = j_str #b is referred to j_str, global variable. It is enough to declare b as global, at least one variable should be referenced.\n",
        "  else:\n",
        "    b = p_str\n",
        "  return b\n",
        "\n",
        "def are_supportive():\n",
        "  #global b\n",
        "  a = ask_q('Are you more Intellectual or Social?', 'IS')\n",
        "  if a == 'I': #return s[0], you get either I, S if s[0] (=a) == 'I'.\n",
        "    b = g_str #b is referred to g_str\n",
        "  else:\n",
        "    b = r_str\n",
        "  return b\n",
        "\n",
        "  # Ask Q (question) function.\n",
        "  #This function takes a prompt message and a set of acceptable choices. Will re-prompt until user gives one og the choices... First letter,\n",
        "  #either case, is accepted.\n",
        "\n",
        "def ask_q(msg, choices): #msg is the input, choices are the given options.\n",
        "  while True:\n",
        "    s = input(msg) #msg is variable, which means the other two functions has a statement referring to msg; specific to function.\n",
        "    s = s.upper() #convert input to uppercase\n",
        "    if s and s[0] in choices: #choices is also specific to function.\n",
        "        return s[0]\n",
        "    elif s and s[0] not in choices: #I turned out else and used elif instead.\n",
        "      print('Invalid Input! Try again.')\n",
        "      #else: #else saves main() from crashing.\n",
        "      print('Enter one of choices.')\n",
        "      print('First letter is sufficient.')\n",
        "\n",
        "main()\n",
        "\n"
      ],
      "metadata": {
        "colab": {
          "base_uri": "https://localhost:8080/"
        },
        "id": "sbsMHxcKSbXR",
        "outputId": "2aed8fe7-aff2-45a2-aa62-341d3c239c75"
      },
      "execution_count": null,
      "outputs": [
        {
          "output_type": "stream",
          "name": "stdout",
          "text": [
            "Are you more Assertive or Supportive?A\n",
            "Are you more Intellectual or Social?S\n",
            "You are a Paul McCartney. You are popular, likable, and charismatic. You make a great impression.\n"
          ]
        }
      ]
    },
    {
      "cell_type": "code",
      "source": [
        "def deneme():\n",
        "  a = ask_me('anan?', 'AS')\n",
        "  if a == 'A':\n",
        "    print('merhaba')\n",
        "\n",
        "def ask_me(msg, choices):   #defined a second parameter: choices == 'AS'.\n",
        "  s = input()\n",
        "  if s and s[0] in choices:\n",
        "    return s[0]\n",
        "  else:\n",
        "    print('anan')\n",
        "\n",
        "deneme()"
      ],
      "metadata": {
        "colab": {
          "base_uri": "https://localhost:8080/"
        },
        "id": "fByAzafd3stV",
        "outputId": "5cb99a26-c0b4-4074-a8f4-791985c5e712"
      },
      "execution_count": null,
      "outputs": [
        {
          "output_type": "stream",
          "name": "stdout",
          "text": [
            "a\n",
            "anan\n"
          ]
        }
      ]
    },
    {
      "cell_type": "code",
      "source": [
        "#This version is a bit different.\n",
        "\n",
        "def deneme():\n",
        "  a = ask_me()\n",
        "  if a == 'A':\n",
        "    print('merhaba')\n",
        "\n",
        "def ask_me():   #defined a second parameter: choices == 'AS'.\n",
        "  s = input()\n",
        "  choices = 'AS'\n",
        "  if s and s[0] in choices:\n",
        "    return s[0]\n",
        "  else:\n",
        "    print('anan')\n",
        "\n",
        "deneme()"
      ],
      "metadata": {
        "colab": {
          "base_uri": "https://localhost:8080/"
        },
        "id": "6EFSrZQd4vny",
        "outputId": "daae1623-6205-4e8c-ac96-a85e99896ac0"
      },
      "execution_count": null,
      "outputs": [
        {
          "output_type": "stream",
          "name": "stdout",
          "text": [
            "A\n",
            "merhaba\n"
          ]
        }
      ]
    },
    {
      "cell_type": "code",
      "source": [
        "#global her_thing\n",
        "her_thing = 1\n",
        "\n",
        "def a_func():\n",
        "  global my_thing #\n",
        "  my_thing = 0 #This creates 'my_thing' -----> global.\n",
        "  locvar = 0 #local\n",
        "\n",
        "your_thing = 10 #Also global, because it is created outside the function (the 'module level').\n",
        "\n",
        "print(your_thing + 1)\n",
        "print(her_thing + 1)\n",
        "print(my_thing + 1)"
      ],
      "metadata": {
        "colab": {
          "base_uri": "https://localhost:8080/"
        },
        "id": "AxAhar1jPotN",
        "outputId": "01e66123-27dc-49a8-f885-97877dda8108"
      },
      "execution_count": null,
      "outputs": [
        {
          "output_type": "stream",
          "name": "stdout",
          "text": [
            "11\n",
            "2\n",
            "1\n"
          ]
        }
      ]
    },
    {
      "cell_type": "markdown",
      "source": [
        "# Chapter 10: Local and Global Variables"
      ],
      "metadata": {
        "id": "86vcP6IHPsak"
      }
    },
    {
      "cell_type": "markdown",
      "source": [
        "# Chapter 9: Advanced Function Techniques"
      ],
      "metadata": {
        "id": "4ZFpvYXEX5Op"
      }
    },
    {
      "cell_type": "code",
      "source": [
        "#Summary\n",
        "def double_it(n):\n",
        "  n = n*2\n",
        "  return n\n",
        "\n",
        "double_it(2)\n",
        "\n",
        "def double_it_20(n, reps=1): #This causes the default value to be used if the argument is omitted during a function call.\n",
        "  #a, b, c = double_it_20(n)\n",
        "  #print(a+b+c)\n",
        "  return n+100, n+reps\n",
        "\n",
        "double_it_20(5, 2)\n",
        "double_it_20(5)\n",
        "\n"
      ],
      "metadata": {
        "colab": {
          "base_uri": "https://localhost:8080/"
        },
        "id": "7oBGrWgIMsy0",
        "outputId": "800c7034-d1fd-4185-c1d9-51b6afcf56db"
      },
      "execution_count": null,
      "outputs": [
        {
          "output_type": "execute_result",
          "data": {
            "text/plain": [
              "(105, 6)"
            ]
          },
          "metadata": {},
          "execution_count": 9
        }
      ]
    },
    {
      "cell_type": "code",
      "source": [
        "#Mutiple return values:\n",
        "\n",
        "def func(n):\n",
        "  return n, n+10, n+20\n",
        "\n",
        "a, b , c = func(2)\n",
        "#print(a, b, c)\n",
        "\n",
        "#OR\n",
        "\n",
        "def func2(n):\n",
        "  return n, n+10, n+20\n",
        "  a_list = []\n",
        "  for i in range (1, n+1):    # -----> 'n+1' neden kullanildigini hatirlayamadim.\n",
        "    a_list.append(i)\n",
        "\n",
        "  print(a_list)\n",
        "\n",
        "#func(2)\n",
        "func2(10)"
      ],
      "metadata": {
        "colab": {
          "base_uri": "https://localhost:8080/"
        },
        "id": "wFzZvC9xYCxN",
        "outputId": "74340749-839a-4ac2-a561-53d858fa9af2"
      },
      "execution_count": null,
      "outputs": [
        {
          "output_type": "execute_result",
          "data": {
            "text/plain": [
              "(10, 20, 30)"
            ]
          },
          "metadata": {},
          "execution_count": 10
        }
      ]
    },
    {
      "cell_type": "code",
      "source": [
        "def double_it(list_arg):\n",
        "  # 1st element of the list == a[0]\n",
        "  list_arg[0] *= 2\n",
        "\n",
        "\n",
        "a = [5]\n",
        "print('Value before is:', a[0])\n",
        "\n",
        "double_it(a)\n",
        "print('Value after is:', a[0])\n",
        "\n",
        "#list_arg[:] = [1,2,3]  ---> Replace entire list, by copying new values.\n"
      ],
      "metadata": {
        "colab": {
          "base_uri": "https://localhost:8080/"
        },
        "id": "i-WyNxW2cuaT",
        "outputId": "27a71cbb-c8f0-4483-b0c9-4a556089b838"
      },
      "execution_count": null,
      "outputs": [
        {
          "output_type": "stream",
          "name": "stdout",
          "text": [
            "Value before is: 5\n",
            "Value after is: 10\n"
          ]
        }
      ]
    },
    {
      "cell_type": "code",
      "source": [
        "def main():\n",
        "\n",
        "  #The main function makes two calls to get_points.\n",
        "  x1, y1 = get_point()\n",
        "  x2, y2 = get_point()\n",
        "  dist, sum = calc_pts(x1, y1, x2, y2)\n",
        "  print('The distance between points is:' , dist)\n",
        "  print('The sum of the points is:', sum)\n",
        "\n",
        "def get_point():\n",
        "  s = input('Enter point in ''x, y'' format: ')\n",
        "  a_list = s.split(',')\n",
        "  a = int(a_list[0].strip())  # <--- -strip() cleans the whitespace, the leading and trailing spaces.\n",
        "  b = int(a_list[1].strip())\n",
        "  return a, b\n",
        "\n",
        "#All these out parameters are passed to the function calc_pts\n",
        "def calc_pts(x1, y1, x2, y2):\n",
        "  dist1 = y2-y1\n",
        "  dist2 = x2-x1\n",
        "  dist=(dist1**2 + dist2**2)**0.5\n",
        "  sum = [x1 + x2, y1 + y2]\n",
        "  return dist, sum\n",
        "\n",
        "main()"
      ],
      "metadata": {
        "colab": {
          "base_uri": "https://localhost:8080/"
        },
        "id": "L3RqB1PCgLH6",
        "outputId": "6e703f52-efe6-40c8-baaf-7253f0bda4f8"
      },
      "execution_count": null,
      "outputs": [
        {
          "output_type": "stream",
          "name": "stdout",
          "text": [
            "Enter point in x, y format:1,2\n",
            "Enter point in x, y format:4,5\n",
            "The distance between points is: 4.242640687119285\n",
            "The sum of the points is: [5, 7]\n"
          ]
        }
      ]
    },
    {
      "cell_type": "code",
      "source": [
        "#Exercices\n",
        "\n",
        "def main():\n",
        "\n",
        "  #The main function makes two calls to get_points.\n",
        "  x1, y1 = get_point() #() -> tuple[int, int].\n",
        "  x2, y2 = get_point()\n",
        "  dist, sum = calc_pts(x1, y1, x2, y2)\n",
        "  print('The distance between points is:' , dist)\n",
        "  print('The sum of the points is:', sum)\n",
        "\n",
        "def get_point():\n",
        "  s = input('Enter point in ''x, y or (x, y)'' format: ')\n",
        "  a_list = s.split(',') # uses ',' to distinguish the data input.\n",
        "  a = int(a_list[0].strip('( )'))  # <--- -strip() cleans the whitespace, the leading and trailing spaces.\n",
        "  b = int(a_list[1].strip('( )'))\n",
        "  return a, b\n",
        "\n",
        "#All these out parameters are passed to the function calc_pts\n",
        "def calc_pts(x1, y1, x2, y2):\n",
        "  dist1 = y2-y1\n",
        "  dist2 = x2-x1\n",
        "  dist=(dist1**2 + dist2**2)**0.5\n",
        "  sum = [x1 + x2, y1 + y2]\n",
        "  return dist, sum\n",
        "\n",
        "main()"
      ],
      "metadata": {
        "colab": {
          "base_uri": "https://localhost:8080/"
        },
        "id": "rGAEbImPiTBP",
        "outputId": "6a38c7ff-3cd6-4f89-fe89-ff6e1856d86d"
      },
      "execution_count": null,
      "outputs": [
        {
          "output_type": "stream",
          "name": "stdout",
          "text": [
            "Enter point in x, y or (x, y) format: (2, 5)\n",
            "Enter point in x, y or (x, y) format: 3, 4\n",
            "The distance between points is: 1.4142135623730951\n",
            "The sum of the points is: [5, 9]\n"
          ]
        }
      ]
    },
    {
      "cell_type": "code",
      "source": [
        "def sumav():\n",
        "  a, b, c, d = list_func()\n",
        "  av = (a + b + c + d)/4\n",
        "  sum = a + b + c + d\n",
        "\n",
        "  print(av, sum)\n",
        "\n",
        "def list_func():\n",
        "  s = input('Enter numbers: ')\n",
        "  a_list = s.split(',')\n",
        "  i = int(a_list[0].strip())\n",
        "  j = int(a_list[1].strip())\n",
        "  k = int(a_list[2].strip())\n",
        "  l = int(a_list[3].strip())\n",
        "\n",
        "  return i, j, k, l\n",
        "\n",
        "sumav()\n",
        "\n"
      ],
      "metadata": {
        "colab": {
          "base_uri": "https://localhost:8080/"
        },
        "id": "x2cTATS2kHe5",
        "outputId": "c669e59a-9caf-4dcc-821a-7415060134ca"
      },
      "execution_count": null,
      "outputs": [
        {
          "output_type": "stream",
          "name": "stdout",
          "text": [
            "Enter four numbers in form of a, b, c, d: 1, 2, 3, 4\n",
            "2.5 10\n"
          ]
        }
      ]
    },
    {
      "cell_type": "code",
      "source": [
        "\n",
        "#Main function asks for a prompt.\n",
        "def main():\n",
        "\n",
        "  #sum and av are asked to the function list_func()\n",
        "  sum, av = list_func()\n",
        "  print('The sum is: ', sum, ' and the av is: ', av, '.', sep='')\n",
        "\n",
        "#Takes a list of numbers of any size.\n",
        "def list_func():      # <---------- Then, we go to list_func()\n",
        "\n",
        "  s = input('Enter numbers: ')\n",
        "  a_list = s.split(',')\n",
        "\n",
        "  sum = 0\n",
        "  av = 0\n",
        "  for i in range(0, len(a_list)-1):\n",
        "    sum += int(a_list[i].strip())\n",
        "\n",
        "  av = sum/len(a_list)\n",
        "  return sum, av       #<----------The function calculates sum and av, and return them.\n",
        "\n",
        "main()\n",
        "\n"
      ],
      "metadata": {
        "colab": {
          "base_uri": "https://localhost:8080/"
        },
        "id": "TY8Yuv3EeEuU",
        "outputId": "a1868078-e509-4693-85e4-0e80b1c611cf"
      },
      "execution_count": null,
      "outputs": [
        {
          "output_type": "stream",
          "name": "stdout",
          "text": [
            "Enter numbers: 1,2,3,4,5,6,\n",
            "The sum is: 21 and the av is: 3.0.\n"
          ]
        }
      ]
    },
    {
      "cell_type": "code",
      "source": [
        "def repeat_s(a_str, n = 1):\n",
        "  for i in range(n):\n",
        "    print(a_str)\n",
        "\n",
        "repeat_s('Oguz', 3)"
      ],
      "metadata": {
        "colab": {
          "base_uri": "https://localhost:8080/"
        },
        "id": "cVx6ePMSoLM0",
        "outputId": "9137a4a7-5744-44fb-b1b5-ca839ecb8a03"
      },
      "execution_count": null,
      "outputs": [
        {
          "output_type": "stream",
          "name": "stdout",
          "text": [
            "Oguz\n",
            "Oguz\n",
            "Oguz\n"
          ]
        }
      ]
    },
    {
      "cell_type": "markdown",
      "source": [
        "adding.py"
      ],
      "metadata": {
        "id": "srlMGlq8w-WW"
      }
    },
    {
      "cell_type": "code",
      "source": [
        "def main():\n",
        "  amt = 0\n",
        "  while True:\n",
        "    b, n = get_num() #<----False == b, n == num\n",
        "    if not b: #<---- if b == False\n",
        "      break\n",
        "    amt += n\n",
        "  print('The total is: ', amt)\n",
        "def get_num(num = 0.0): #<----#This function passes back two piece of information.\n",
        "  s = input('Input number (ENTER to quit): ')\n",
        "  #If string lenght equals zero, the caller stores False (Boolean) in the variable b.\n",
        "  if not s:  #<-------This is an optimization, equals if s == '': #None == False -> if not False --> if True\n",
        "    return False, num\n",
        "  else: #<-----It is True if only a non-zero-length string was entered.\n",
        "    return True, float(s)\n",
        "\n",
        "main()"
      ],
      "metadata": {
        "colab": {
          "base_uri": "https://localhost:8080/"
        },
        "id": "QaCN9uyTxBST",
        "outputId": "eed91dbc-4c17-451d-949f-e8a8e7b0fdc5"
      },
      "execution_count": null,
      "outputs": [
        {
          "output_type": "stream",
          "name": "stdout",
          "text": [
            "Input number (ENTER to quit): 1\n",
            "Input number (ENTER to quit): 2\n",
            "Input number (ENTER to quit): 3\n",
            "Input number (ENTER to quit): 4\n",
            "Input number (ENTER to quit): \n",
            "The total is:  10.0\n"
          ]
        }
      ]
    },
    {
      "cell_type": "code",
      "source": [
        "#Optimized Version\n",
        "\n",
        "def main():\n",
        "  amt = 0\n",
        "  while True:\n",
        "    x = get_num()\n",
        "    if x is None:\n",
        "      break\n",
        "    amt += x\n",
        "  print('The total is: ', amt)\n",
        "\n",
        "def get_num():\n",
        "  s = input('Input number (ENTER to quit): ')\n",
        "  if not s:\n",
        "    return None\n",
        "  else:\n",
        "    return float(s)\n",
        "\n",
        "main()"
      ],
      "metadata": {
        "colab": {
          "base_uri": "https://localhost:8080/"
        },
        "id": "TFT0ijuYz0cP",
        "outputId": "09068c35-8d1d-40bd-bc3d-1afb0058738d"
      },
      "execution_count": null,
      "outputs": [
        {
          "output_type": "stream",
          "name": "stdout",
          "text": [
            "Input number (ENTER to quit): 1\n",
            "Input number (ENTER to quit): 2\n",
            "Input number (ENTER to quit): 3\n",
            "Input number (ENTER to quit): \n",
            "The total is:  6.0\n"
          ]
        }
      ]
    },
    {
      "cell_type": "code",
      "source": [
        "#Exercices\n",
        "#Author: x == NONE or TRUE; y == defval or int(s).\n",
        "def main():\n",
        "  amt = 0\n",
        "  while True:\n",
        "    x, y = get_num()\n",
        "    amt += y\n",
        "    if x is None: #--> I changed the position of this statement.\n",
        "      break\n",
        "  print('The total is: ', amt)\n",
        "\n",
        "def get_num(def_val = 0):\n",
        "  s = input('Input number (ENTER to quit): ')\n",
        "  if not s:\n",
        "    return None, def_val\n",
        "  else:\n",
        "    return True, int(s)\n",
        "\n",
        "main()"
      ],
      "metadata": {
        "colab": {
          "base_uri": "https://localhost:8080/"
        },
        "id": "GDGvZEP61on1",
        "outputId": "2c2a9b3f-3fee-4a1a-de81-850de070fd3a"
      },
      "execution_count": null,
      "outputs": [
        {
          "output_type": "stream",
          "name": "stdout",
          "text": [
            "Input number (ENTER to quit): 1\n",
            "Input number (ENTER to quit): 2\n",
            "Input number (ENTER to quit): \n",
            "The total is:  3\n"
          ]
        }
      ]
    },
    {
      "cell_type": "markdown",
      "source": [
        "Dice Game"
      ],
      "metadata": {
        "id": "CbBh-rto9DvA"
      }
    },
    {
      "cell_type": "code",
      "source": [
        "\n",
        "#craps.py\n",
        "#This is the longest program listing so far in this book.\n",
        "#Rolling a 7 either wins the game or loses it, depending on when you roll it.\n",
        "from random import randint\n",
        "\n",
        "def main():\n",
        "  s = ''\n",
        "  while not s or s[0] in 'Yy':\n",
        "    play_the_game()    #<-------call the function.\n",
        "    s = input('Play again (Y or N): ')\n",
        "\n",
        "def play_the_game():\n",
        "  r = roll(); #<---roll the dice.\n",
        "  if r == 7 or r == 11:\n",
        "    print(r, 'is an instant WINNER!\\n')\n",
        "    return\n",
        "  if r == 2 or r == 3 or r == 12:\n",
        "    print(r, 'is an instant LOSER. Sorry.\\n')\n",
        "    return\n",
        "  print('Your point is now a', r)\n",
        "  point = r\n",
        "  while True:\n",
        "    s = input('Roll again (E=exit)?')\n",
        "    if len(s) > 0 and s[0] in 'Ee':\n",
        "      return\n",
        "    r=roll()\n",
        "    print('You rolled a', r)\n",
        "    if r == point:\n",
        "      print('You\\'re a WINNER!\\n')\n",
        "      return\n",
        "    elif r == 7:\n",
        "      print('Sorry, you\\'re a LOSER.\\n')\n",
        "      return\n",
        "\n",
        "def roll():\n",
        "  d1 = randint(1,6)\n",
        "  d2 = randint(1,6)\n",
        "  print(d1, d2)\n",
        "  r = d1 + d2\n",
        "  return r\n",
        "\n",
        "main()\n",
        "\n"
      ],
      "metadata": {
        "colab": {
          "base_uri": "https://localhost:8080/"
        },
        "id": "XWXOifEC9C5i",
        "outputId": "04d93adf-550f-4274-adda-c0950107daf1"
      },
      "execution_count": null,
      "outputs": [
        {
          "name": "stdout",
          "output_type": "stream",
          "text": [
            "3 5\n",
            "Your point is now a 8\n",
            "Roll again (E=exit)?\n",
            "3 2\n",
            "You rolled a 5\n",
            "Roll again (E=exit)?\n",
            "5 5\n",
            "You rolled a 10\n",
            "Roll again (E=exit)?\n",
            "5 1\n",
            "You rolled a 6\n",
            "Roll again (E=exit)?\n",
            "3 2\n",
            "You rolled a 5\n",
            "Roll again (E=exit)?\n",
            "4 3\n",
            "You rolled a 7\n",
            "Sorry, you're a LOSER.\n",
            "\n",
            "Play again (Y or N): N\n"
          ]
        }
      ]
    },
    {
      "cell_type": "code",
      "source": [
        "\n",
        "#Exercises\n",
        "#craps.py\n",
        "#Modified with gpt, note the global variable!\n",
        "#It was not easy!\n",
        "\n",
        "from random import randint\n",
        "\n",
        "init_stake = int(100) #or just 100?\n",
        "\n",
        "def main():\n",
        "\n",
        "  global init_stake\n",
        "  print('Hello! Welcome to French Crabs Dice Game!')\n",
        "  print('Your initial stake is 100 Euros. Good Luck! ')\n",
        "  bet_amount = int(input('How much do you bet? Type please: '))\n",
        "\n",
        "  #s = ''\n",
        "  #while not s or s[0] in 'Yy':\n",
        "  while True:\n",
        "    result = play_the_game() #Calls the function to play. #Store the result in a variable.)\n",
        "\n",
        "    k = bet(bet_amount, init_stake, result)\n",
        "    print('Your current stake is ', k)\n",
        "\n",
        "    if result == False:\n",
        "      s = input('You wanna play again (Y or N): ')\n",
        "\n",
        "      if s[0] in 'Nn':\n",
        "        print('Goodbye!')\n",
        "        break\n",
        "\n",
        "      if s[0] in 'Yy':\n",
        "        continue\n",
        "\n",
        "\n",
        "    if Exit == 'Exit': #Check if the Exit flag is set.\n",
        "      print('Goodbye!')\n",
        "      break\n",
        "\n",
        "\n",
        "\n",
        "def play_the_game():\n",
        "\n",
        "  r = roll();\n",
        "  if r in [7, 11]:\n",
        "    print(r, 'is an instant WINNER!\\n')\n",
        "    return True\n",
        "\n",
        "  if r in [2, 3, 12]:\n",
        "    print(r, 'is an instant LOSER. Sorry.\\n')\n",
        "    return False\n",
        "\n",
        "  print('Your point is now a', r)\n",
        "\n",
        "\n",
        "  point = r\n",
        "  while True:\n",
        "    s = input('Roll again (E=exit)? Type space or E: ')\n",
        "\n",
        "    if len(s) > 0 and s[0] in 'Ee':\n",
        "      global Exit\n",
        "      Exit = 'Exit' #The flag is set.\n",
        "      return\n",
        "\n",
        "    else:\n",
        "      r=roll()\n",
        "      print('You rolled a', r)\n",
        "\n",
        "      if r == point:\n",
        "        print('You\\'re a WINNER!\\n')\n",
        "        return True\n",
        "\n",
        "      elif r == 7:\n",
        "        print('Sorry, you\\'re a LOSER.\\n')\n",
        "        return False\n",
        "\n",
        "def roll():\n",
        "  d1 = randint(1,6)\n",
        "  d2 = randint(1,6)\n",
        "  print(d1, d2)\n",
        "  r = d1 + d2\n",
        "  return r\n",
        "\n",
        "def bet(bet_amount, init_stake, result): #In the previous version, the annotation was result=play_the_game which causes function to be called twice!\n",
        "    if result is True:\n",
        "        return int(init_stake + bet_amount)\n",
        "    elif result is False:\n",
        "        return int(init_stake - bet_amount)\n",
        "    else:\n",
        "      return init_stake\n",
        "\n",
        "main()"
      ],
      "metadata": {
        "colab": {
          "base_uri": "https://localhost:8080/"
        },
        "id": "QP05C1fcqNTD",
        "outputId": "6794ec6c-4b43-46ea-bcad-6a3fadf74420"
      },
      "execution_count": null,
      "outputs": [
        {
          "output_type": "stream",
          "name": "stdout",
          "text": [
            "Hello! Welcome to French Crabs Dice Game!\n",
            "Your initial stake is 100 Euros. Good Luck! \n",
            "How much do you bet? Type please: 30\n",
            "2 6\n",
            "Your point is now a 8\n",
            "Roll again (E=exit)? Type space or E: \n",
            "5 1\n",
            "You rolled a 6\n",
            "Roll again (E=exit)? Type space or E: \n",
            "3 2\n",
            "You rolled a 5\n",
            "Roll again (E=exit)? Type space or E: \n",
            "5 3\n",
            "You rolled a 8\n",
            "You're a WINNER!\n",
            "\n",
            "Your current stake is  130\n",
            "Goodbye!\n"
          ]
        }
      ]
    },
    {
      "cell_type": "code",
      "source": [
        "\n",
        "#Exercises\n",
        "#craps.py\n",
        "#Modified with gpt, note the global variable!\n",
        "#It was not easy!\n",
        "\n",
        "from random import randint\n",
        "\n",
        "init_stake = int(100) #or just 100?\n",
        "\n",
        "def main():\n",
        "\n",
        "  global init_stake\n",
        "  print('Hello! Welcome to French Crabs Dice Game!')\n",
        "  print('Your initial stake is 100 Euros. Good Luck! ')\n",
        "  bet_amount = int(input('How much do you bet? Type please: '))\n",
        "\n",
        "  #s = ''\n",
        "  #while not s or s[0] in 'Yy':\n",
        "  while True:\n",
        "    result = play_the_game() #Calls the function to play. #Store the result in a variable.)\n",
        "\n",
        "    k = bet(bet_amount, init_stake, result)\n",
        "    print('Your current stake is ', k)\n",
        "\n",
        "    if result == False:\n",
        "      s = input('You wanna play again (Y or N): ')\n",
        "\n",
        "      if s[0] in 'Nn':\n",
        "        print('Goodbye!')\n",
        "        break\n",
        "\n",
        "      elif s[0] in 'Yy':\n",
        "        continue\n",
        "\n",
        "\n",
        "    if Exit == 'Exit': #Check if the Exit flag is set.\n",
        "      print('Goodbye!')\n",
        "      break\n",
        "\n",
        "\n",
        "\n",
        "def play_the_game():\n",
        "\n",
        "  r = roll();\n",
        "  if r in [7, 11]:\n",
        "    print(r, 'is an instant WINNER!\\n')\n",
        "    return True\n",
        "\n",
        "  if r in [2, 3, 12]:\n",
        "    print(r, 'is an instant LOSER. Sorry.\\n')\n",
        "    return False\n",
        "\n",
        "  print('Your point is now a', r)\n",
        "\n",
        "\n",
        "  point = r\n",
        "  while True:\n",
        "    s = input('Roll again (E=exit)? Type space or E: ')\n",
        "\n",
        "    if len(s) > 0 and s[0] in 'Ee':\n",
        "      global Exit\n",
        "      Exit = 'Exit' #The flag is set.\n",
        "      return\n",
        "\n",
        "    else:\n",
        "      r=roll()\n",
        "      print('You rolled a', r)\n",
        "\n",
        "      if r == point:\n",
        "        print('You\\'re a WINNER!\\n')\n",
        "        return True\n",
        "\n",
        "      elif r == 7:\n",
        "        print('Sorry, you\\'re a LOSER.\\n')\n",
        "        return False\n",
        "\n",
        "def roll():\n",
        "  d1 = randint(1,6)\n",
        "  d2 = randint(1,6)\n",
        "  print(d1, d2)\n",
        "  r = d1 + d2\n",
        "  return r\n",
        "\n",
        "def bet(bet_amount, init_stake, result): #In the previous version, the annotation was result=play_the_game which causes function to be called twice!\n",
        "    if result is True:\n",
        "        return int(init_stake + bet_amount)\n",
        "    elif result is False:\n",
        "        return int(init_stake - bet_amount)\n",
        "    else:\n",
        "      return init_stake\n",
        "\n",
        "main()\n"
      ],
      "metadata": {
        "id": "p-H6dB6HWPAH"
      },
      "execution_count": null,
      "outputs": []
    },
    {
      "cell_type": "code",
      "source": [
        "#Exercise2\n",
        "#UnboundLocalError\n",
        "\n",
        "from random import randint\n",
        "\n",
        "def roll(n, sides):\n",
        "   N = int(n)\n",
        "   r = 0 #Initialize r before the loop  #----> to solve the error.\n",
        "   a_list=[]\n",
        "   for i in range(1, n+1):\n",
        "     d = randint(1,N)\n",
        "     a_list.append(d)\n",
        "     r += d\n",
        "   print('Total score is ', r, '.', sep='')\n",
        "   print(a_list)\n",
        "   #return r      -------------------> return ifadesini yazdigin anda fonksiyonun islemi bitiyor.\n",
        "\n",
        "roll(10,6)\n"
      ],
      "metadata": {
        "colab": {
          "base_uri": "https://localhost:8080/"
        },
        "id": "fvy7Y9aHw45Y",
        "outputId": "25209162-c91f-4494-dde3-a45cf8a59b93"
      },
      "execution_count": null,
      "outputs": [
        {
          "output_type": "stream",
          "name": "stdout",
          "text": [
            "Total score is 59.\n",
            "[10, 2, 10, 10, 6, 7, 3, 3, 2, 6]\n"
          ]
        }
      ]
    },
    {
      "cell_type": "code",
      "source": [
        "for i in range(1,5):\n",
        "  print('di')"
      ],
      "metadata": {
        "colab": {
          "base_uri": "https://localhost:8080/"
        },
        "id": "OqwOOvZvyDPl",
        "outputId": "7fdc9047-be50-4ad4-f836-c271e620aeef"
      },
      "execution_count": null,
      "outputs": [
        {
          "output_type": "stream",
          "name": "stdout",
          "text": [
            "di\n",
            "di\n",
            "di\n",
            "di\n"
          ]
        }
      ]
    },
    {
      "cell_type": "markdown",
      "source": [
        "# Chapter 8: Single Character Ops"
      ],
      "metadata": {
        "id": "MMJnhNNYClmH"
      }
    },
    {
      "cell_type": "markdown",
      "source": [
        "Palindromes"
      ],
      "metadata": {
        "id": "zdkwWN7mCupQ"
      }
    },
    {
      "cell_type": "code",
      "source": [
        "N = str(input('Please enter the word: '))\n",
        "a_list = N.split(', ') #It can only split, when ', ' delineates.\n",
        "#b_list = []\n",
        "s = str()\n",
        "for i in a_list: #I used the loop to execute concatenation.\n",
        "  s += i.strip() #.strip function does not change the interword spaces.\n",
        "  #s += ''\n",
        "#print(s)\n",
        "print(s)\n",
        "\n",
        "\n",
        "#b_str = a_str.upper()\n",
        "#if b_str == b_str[-1: :-1]: #Simple string. It is used to reverse the string, remember.\n",
        "  #print('It is a palindrome')"
      ],
      "metadata": {
        "id": "zLliFLS547Cm"
      },
      "execution_count": null,
      "outputs": []
    },
    {
      "cell_type": "code",
      "source": [
        "#let's check the functions for str or list.\n",
        "help(str)"
      ],
      "metadata": {
        "id": "WuBdEi_FCuDx"
      },
      "execution_count": null,
      "outputs": []
    },
    {
      "cell_type": "markdown",
      "source": [
        "convert.py"
      ],
      "metadata": {
        "id": "Czwr6UxoY0oy"
      }
    },
    {
      "cell_type": "code",
      "source": [
        "#The following code converts a string to all-uppercase form, nonletters are removed."
      ],
      "metadata": {
        "id": "W7Yemp3yYzk6"
      },
      "execution_count": null,
      "outputs": []
    },
    {
      "cell_type": "code",
      "source": [
        "input_str = input('Enter input strings: ')\n",
        "output_str = input_str.upper()\n",
        "s = ''\n",
        "for i in output_str: #Every character in the string.\n",
        "  if i.isalpha(): #We built a new string by inspecting the contents of an old string, the functions adds each alphabetical character.\n",
        "    s += i #Place that letter onto the end of the string s.\n",
        "print (s)"
      ],
      "metadata": {
        "colab": {
          "base_uri": "https://localhost:8080/"
        },
        "id": "8Uz9KdtOZB9t",
        "outputId": "00e619d7-8043-44d8-919e-1fd13d58e460"
      },
      "execution_count": null,
      "outputs": [
        {
          "output_type": "stream",
          "name": "stdout",
          "text": [
            "Enter input strings: MADAM, I' M ADAM\n",
            "MADAMIMADAM\n"
          ]
        }
      ]
    },
    {
      "cell_type": "code",
      "source": [
        "input_str = input('Enter input strings: ')\n",
        "output_str = input_str.upper()\n",
        "#s = ''\n",
        "a_list = []\n",
        "for i in output_str: #Every character in the string.\n",
        "  if i.isalpha(): #We built a new string by inspecting the contents of an old string, the functions adds each alphabetical character.\n",
        "    a_list.append(i)\n",
        "s = ''.join(a_list)\n",
        "print(s)"
      ],
      "metadata": {
        "colab": {
          "base_uri": "https://localhost:8080/"
        },
        "id": "0incbBFBbWWo",
        "outputId": "c22a3f64-d487-4000-e2fa-f2cea682447e"
      },
      "execution_count": null,
      "outputs": [
        {
          "output_type": "stream",
          "name": "stdout",
          "text": [
            "Enter input strings: MADAM I AM ADAM\n",
            "MADAMIAMADAM\n"
          ]
        }
      ]
    },
    {
      "cell_type": "markdown",
      "source": [
        "palin.py"
      ],
      "metadata": {
        "id": "DiAdIwHHeG6n"
      }
    },
    {
      "cell_type": "code",
      "source": [
        "input_str = input('Enter input strings: ')\n",
        "output_str = input_str.upper()\n",
        "a_list = [i for i in output_str if i.isalpha()]\n",
        "s = ''.join(a_list)\n",
        "print(s)\n",
        "\n",
        "#The 2nd part tests for matching letters.\n",
        "#This method also applies to C and C++ programmers.\n",
        "\n",
        "is_palin = True #Assume True until proven false.\n",
        "for i in range(len(s)//2):\n",
        "  if s[i] != s[-i-1]: #If mismatch\n",
        "    is_palin = False\n",
        "\n",
        "if is_palin:\n",
        "  print('String is a palindrome.')\n",
        "else:\n",
        "  print('String is NOT a palindrome.')\n",
        "\n",
        "#OR\n",
        "\n",
        "is_palin = (s == s[-1::-1]) #A step value of -1 means to move backward through the string."
      ],
      "metadata": {
        "colab": {
          "base_uri": "https://localhost:8080/"
        },
        "id": "jPnYx9zTb1DR",
        "outputId": "f0695b45-3c7c-4ac3-eae3-4c49038cf447"
      },
      "execution_count": null,
      "outputs": [
        {
          "output_type": "stream",
          "name": "stdout",
          "text": [
            "Enter input strings: MADAM I' M ADAM\n",
            "MADAMIMADAM\n",
            "String is a palindrome\n"
          ]
        }
      ]
    },
    {
      "cell_type": "markdown",
      "source": [
        "Converting to ASCII Code"
      ],
      "metadata": {
        "id": "lAUZ6cWSsNCO"
      }
    },
    {
      "cell_type": "code",
      "source": [
        "for i in 'abcde':\n",
        "  n = ord(i)\n",
        "  print(i, n)\n",
        "\n",
        "chr(97)"
      ],
      "metadata": {
        "colab": {
          "base_uri": "https://localhost:8080/",
          "height": 122
        },
        "id": "bVsQnYWysUD6",
        "outputId": "44a2edf0-49f9-4318-a0e2-f90afc47c1af"
      },
      "execution_count": null,
      "outputs": [
        {
          "output_type": "stream",
          "name": "stdout",
          "text": [
            "a 97\n",
            "b 98\n",
            "c 99\n",
            "d 100\n",
            "e 101\n"
          ]
        },
        {
          "output_type": "execute_result",
          "data": {
            "text/plain": [
              "'a'"
            ],
            "application/vnd.google.colaboratory.intrinsic+json": {
              "type": "string"
            }
          },
          "metadata": {},
          "execution_count": 20
        }
      ]
    },
    {
      "cell_type": "markdown",
      "source": [
        "Encode Strings"
      ],
      "metadata": {
        "id": "o-q3ehFPtSpT"
      }
    },
    {
      "cell_type": "code",
      "source": [
        "input_str = input('Enter string to encode: ')\n",
        "a_list = []\n",
        "for i in input_str:\n",
        "  n = ord(i) + 1\n",
        "\n",
        " #Another exception is what to do with letters z and Z. These letters are transformed into a and A. An easy way to do that is to subtract 26,\n",
        " #so that when 1 is added to ASCII code of z and Z, it yields the initial letter. Subtracting 26 pushes the number to the beginning,\n",
        "  if i.isupper() and n > ord('Z'): #The code distinguishes btw. uppercase and lowercase.\n",
        "    n -= 26\n",
        "  elif i.islower() and n > ord('z'):\n",
        "    n -= 26\n",
        "  if i.isalpha():\n",
        "    a_list.append(chr(n))\n",
        "  else: #Spaces and nonletter characters stay untouched.\n",
        "    a_list.append(i)\n",
        "s = ''.join(a_list)\n",
        "print('Code string is', s)\n",
        "\n"
      ],
      "metadata": {
        "colab": {
          "base_uri": "https://localhost:8080/"
        },
        "id": "ROTO15c8tUZs",
        "outputId": "ca615ba4-06e4-4cd4-e64b-55630dd4a26b"
      },
      "execution_count": null,
      "outputs": [
        {
          "output_type": "stream",
          "name": "stdout",
          "text": [
            "Enter string to encode: I am Hal.\n",
            "Code string is J bn Ibm.\n"
          ]
        }
      ]
    },
    {
      "cell_type": "code",
      "source": [
        "#Exercises\n",
        "\n",
        "input_str = input('Enter string to encode: ')\n",
        "N = int(input('How many positions to shift? ')) #When you type 26, it gives the input as output.\n",
        "a_list = []\n",
        "\n",
        "n in range (1, len(input_str)+1)\n",
        "b_list = a_list.append(chr(input_str[n]))\n",
        "\n",
        "for i in b_list:\n",
        "  if N < 25:\n",
        "    n = ord(i) + N\n",
        "  elif N >= 25:\n",
        "    N -= N%24\n",
        "    n = ord(i) + N\n",
        "  if i.isupper() and n > ord('Z'):\n",
        "    n = n-26\n",
        "  elif i.islower() and n > ord('z'):\n",
        "    n = n-26\n",
        "  #if i.isalpha():\n",
        "    #a_list.append(chr(n))\n",
        "  else:\n",
        "    a_list.append(i)\n",
        "s = ''.join(a_list)\n",
        "print('Code string is', s)\n"
      ],
      "metadata": {
        "colab": {
          "base_uri": "https://localhost:8080/"
        },
        "id": "ISnSEE3w5Ir6",
        "outputId": "84862152-4a0e-459b-e8d5-1aaeff9c2850"
      },
      "execution_count": null,
      "outputs": [
        {
          "output_type": "stream",
          "name": "stdout",
          "text": [
            "Enter string to encode: I am HAL.\n",
            "How many positions to shift? 25\n",
            "Code string is G yk FYJ.\n"
          ]
        }
      ]
    },
    {
      "cell_type": "markdown",
      "source": [
        "Decode Strings"
      ],
      "metadata": {
        "id": "10aD4gNt9eQH"
      }
    },
    {
      "cell_type": "code",
      "source": [
        "input_str = input('Enter string to decode: ')\n",
        "a_list = []\n",
        "for i in input_str:\n",
        "   n = ord(i)-1\n",
        "   if i.isupper() and n < ord('A'):\n",
        "    n += 26\n",
        "   if i.isalpha():\n",
        "    a_list.append(chr(n))\n",
        "   else:\n",
        "    a_list.append(i)\n",
        "s = ''.join(a_list)\n",
        "print('Coded string is', s)"
      ],
      "metadata": {
        "colab": {
          "base_uri": "https://localhost:8080/"
        },
        "id": "6xdlGkkr9gEI",
        "outputId": "98bc64cd-5ca7-4814-f918-b717d81b60f8"
      },
      "execution_count": null,
      "outputs": [
        {
          "output_type": "stream",
          "name": "stdout",
          "text": [
            "Enter string to decode: J bn IBM.\n",
            "Coded string is I am HAL.\n"
          ]
        }
      ]
    },
    {
      "cell_type": "code",
      "source": [
        "#Exercices\n",
        "\n",
        "#Enigma 1.0\n",
        "while True:\n",
        "  try:\n",
        "\n",
        "    start_input = input('Encode or Decode? Type E or D: ')\n",
        "\n",
        "    if start_input == '':\n",
        "      print('Exiting the program.')\n",
        "      break\n",
        "\n",
        "    else:\n",
        "      input_str = input('Enter the string: ')\n",
        "      N = int(input('How many chr should be shifted? '))\n",
        "\n",
        "      if start_input == 'E':\n",
        "        a_list = []\n",
        "        for i in input_str:\n",
        "          n = ord(i) + N\n",
        "          if i.isupper() and n > ord('Z'):\n",
        "            n -= 26\n",
        "          elif i.islower() and n > ord('z'):\n",
        "            n -= 26\n",
        "          if i.isalpha():\n",
        "            a_list.append(chr(n))\n",
        "          else:\n",
        "            a_list.append(i)\n",
        "\n",
        "        s = ''.join(a_list)\n",
        "        print('Encoded string is', s)\n",
        "\n",
        "      elif start_input == 'D': #To ensure it is only checked if the start_input is 'D'.\n",
        "        a_list = []\n",
        "        for i in input_str:\n",
        "          n = ord(i)-N\n",
        "          if i.isupper() and n < ord('A'):\n",
        "            n += 26\n",
        "          if i.isalpha():\n",
        "            a_list.append(chr(n))\n",
        "          else:\n",
        "            a_list.append(i)\n",
        "\n",
        "        s = ''.join(a_list)\n",
        "        print('Decoded string is', s)\n",
        "\n",
        "\n",
        "  except ValueError:\n",
        "    print('Invalid input. Please enter a valid number')\n"
      ],
      "metadata": {
        "colab": {
          "base_uri": "https://localhost:8080/"
        },
        "id": "7rdUFFKcSqnZ",
        "outputId": "0b0728cb-eb21-4e7b-9be3-73cc463f39bc"
      },
      "execution_count": null,
      "outputs": [
        {
          "output_type": "stream",
          "name": "stdout",
          "text": [
            "Encode or Decode? Type E or D: E\n",
            "Enter the string: I am HAL.\n",
            "How many chr should be shifted? 1\n",
            "Encoded string is J bn IBM.\n",
            "Encode or Decode? Type E or D: D\n",
            "Enter the string: J bn IBM.\n",
            "How many chr should be shifted? 1\n",
            "Decoded string is I am HAL.\n",
            "Encode or Decode? Type E or D: \n",
            "Exiting the program.\n"
          ]
        }
      ]
    },
    {
      "cell_type": "code",
      "source": [
        "#Exercises\n",
        "def Palindrome():\n",
        "  while True:\n",
        "    input_str = input('Enter input strings: ')\n",
        "    output_str = input_str.upper()\n",
        "    a_list = [i for i in output_str if i.isalpha()]\n",
        "    s = ''.join(a_list)\n",
        "\n",
        "#Calculate the limit of the range once\n",
        "    limit = len(s)//2\n",
        "\n",
        "#The 2nd part tests for matching letters.\n",
        "#This method also applies to C and C++ programmers.\n",
        "\n",
        "    is_palin = True #Assume True until proven false.\n",
        "#for i in range(len(s)//2): #This seems to be calculated, over and over.\n",
        "    for i in range(limit): #Replaced.\n",
        "      if s[i] != s[-i-1]: #If mismatch\n",
        "        is_palin = False\n",
        "        break #More efficient at run time?\n",
        "\n",
        "    if is_palin and input_str != '':\n",
        "      print('String is a palindrome.')\n",
        "    else:\n",
        "      print('String is NOT a palindrome.')\n",
        "\n",
        "    #To exit the program.\n",
        "    if input_str == '':\n",
        "      print('Exiting the program.')\n",
        "      break\n",
        "\n",
        "Palindrome()\n"
      ],
      "metadata": {
        "colab": {
          "base_uri": "https://localhost:8080/"
        },
        "id": "FNPrXKmZnRw-",
        "outputId": "a5951f44-0f05-4f0b-aa5d-942672bc4301"
      },
      "execution_count": null,
      "outputs": [
        {
          "output_type": "stream",
          "name": "stdout",
          "text": [
            "Enter input strings: \n",
            "String is NOT a palindrome.\n",
            "Exiting the program.\n"
          ]
        }
      ]
    },
    {
      "cell_type": "markdown",
      "source": [
        "# Chapter 7: Strings"
      ],
      "metadata": {
        "id": "Kq1MQFUjnLfK"
      }
    },
    {
      "cell_type": "code",
      "source": [
        "str_1 = \"Fatih\"\n",
        "#str_1[1:5:1]\n",
        "rev_str = str_1[-1::-1]\n",
        "print(rev_str)\n",
        "print(str_1[-2])\n",
        "print(str_1[:-3]) # = \"Fa\"\n",
        "print(str_1[:-1]) # = \"Fati\"\n",
        "print(3*\"33\") #this command extends the string\n",
        "n = 3*\"Fatih\"\n",
        "s = str(n)\n",
        "output_str = \"Fatih multiplied by three has {} charachters.\"\n",
        "print(output_str.format(len(s))) #the len function counts the number of characters."
      ],
      "metadata": {
        "id": "0hu8nMRnnQDU",
        "colab": {
          "base_uri": "https://localhost:8080/"
        },
        "outputId": "ab8d8bd0-0d6a-441b-fdb8-da56efe03c11"
      },
      "execution_count": null,
      "outputs": [
        {
          "output_type": "stream",
          "name": "stdout",
          "text": [
            "hitaF\n",
            "i\n",
            "Fa\n",
            "Fati\n",
            "333333\n",
            "Fatih multiplied by three has 15 charachters.\n"
          ]
        }
      ]
    },
    {
      "cell_type": "markdown",
      "source": [
        "Zeros.py"
      ],
      "metadata": {
        "id": "ftc7_YZexz_K"
      }
    },
    {
      "cell_type": "code",
      "source": [
        "prod = 1\n",
        "for i in range(1,51): #For 1 to 50 inclusive.\n",
        "  prod = prod * i\n",
        "s = str(prod) #Convert factorial to string s\n",
        "n = len(s) #n = length of string s\n",
        "z = 0\n",
        "while n > 0 and s[n-1] == \"0\":\n",
        "  z = z + 1\n",
        "  n = n - 1\n",
        "print(\"50! is\", s)\n",
        "print(\"The number of trailing zeros is\", z)"
      ],
      "metadata": {
        "colab": {
          "base_uri": "https://localhost:8080/"
        },
        "id": "nXSt_lzHu9_H",
        "outputId": "5f21af61-1eb6-487d-8ded-e7560518882f"
      },
      "execution_count": null,
      "outputs": [
        {
          "output_type": "stream",
          "name": "stdout",
          "text": [
            "50! is 30414093201713378043612608166064768844377641568960512000000000000\n",
            "The number of trailing zeros is 12\n"
          ]
        }
      ]
    },
    {
      "cell_type": "markdown",
      "source": [
        "Zeros2.py"
      ],
      "metadata": {
        "id": "wQhXiJBWHrl6"
      }
    },
    {
      "cell_type": "code",
      "source": [
        "#Modified after exercices.\n",
        "while True:\n",
        "  N = int(input(\"Enter number to calc. factorial for:\"))\n",
        "  if N != 0: # 'Mistake \"0\" != 0'\n",
        "    prod = 1\n",
        "    for i in range(1, N+1):\n",
        "      prod *= i\n",
        "    s = str(prod)\n",
        "    z = len(s)-len(s.strip(\"0\")) #a single statement shows how incredibly succint and powerful Python can be\"\n",
        "    print(N, \"factorial is\", s)\n",
        "    print(\"The number of trailing zeros is\", z)\n",
        "  if N == 0:\n",
        "    print(\"Exiting the program.\")\n",
        "    break"
      ],
      "metadata": {
        "colab": {
          "base_uri": "https://localhost:8080/"
        },
        "id": "fwqe0NtrHuLH",
        "outputId": "50589f38-a95c-47f0-fffa-8554dff095f9"
      },
      "execution_count": null,
      "outputs": [
        {
          "output_type": "stream",
          "name": "stdout",
          "text": [
            "Enter number to calc. factorial for:0\n",
            "Exiting the program.\n"
          ]
        }
      ]
    },
    {
      "cell_type": "markdown",
      "source": [
        "The number of digits of precision"
      ],
      "metadata": {
        "id": "IfPlWfr6Kqy6"
      }
    },
    {
      "cell_type": "code",
      "source": [
        "#Modified after exercices and gpt.\n",
        "\n",
        "from fractions import Fraction\n",
        "\n",
        "while True: #try & except functions can save your program.\n",
        "  try:\n",
        "\n",
        "    N = input(\"Enter a number or fraction:\") #is broken number true?\n",
        "    if '/' in N:\n",
        "      f = Fraction(N)\n",
        "    else:\n",
        "      f = float(N)\n",
        "\n",
        "    if f != 0:\n",
        "      s = str(N)\n",
        "      z = len(s)-s.index('.') - 1 if '.' in s else 0 #correction proposed by gpt #-1 (0-based indexing), -1 if '.' in s.\n",
        "      print(N)\n",
        "      print(len(s))\n",
        "      print(\"The precision is\", z, \"digits.\")\n",
        "\n",
        "    if f == 0:\n",
        "      print(\"Exiting the program.\")\n",
        "      break\n",
        "\n",
        "  except ValueError:\n",
        "    print(\"Invalid input. Please enter a valid number\")"
      ],
      "metadata": {
        "colab": {
          "base_uri": "https://localhost:8080/"
        },
        "id": "BKiGNc8OKqO2",
        "outputId": "4245d52c-d660-4af5-a412-baf46cb11502"
      },
      "execution_count": null,
      "outputs": [
        {
          "output_type": "stream",
          "name": "stdout",
          "text": [
            "Enter a number or fraction:1/3\n",
            "Invalid input. Please enter a valid number\n",
            "Enter a number or fraction:0.333333333333333\n",
            "0.333333333333333\n",
            "17\n",
            "The precision is 15 digits.\n",
            "Enter a number or fraction:0\n",
            "Exiting the program.\n"
          ]
        }
      ]
    },
    {
      "cell_type": "code",
      "source": [
        "#How to create a perfect list?\n",
        "s = 'I am:,  a human, a creator, a futurist'\n",
        "a_list = s.split(',')\n",
        "for i in a_list:\n",
        "  print(i.strip())"
      ],
      "metadata": {
        "colab": {
          "base_uri": "https://localhost:8080/"
        },
        "id": "yuSVU2_Oi1zu",
        "outputId": "49c7e8a2-1912-4fa8-f04c-191260582f86"
      },
      "execution_count": null,
      "outputs": [
        {
          "output_type": "stream",
          "name": "stdout",
          "text": [
            "I am:\n",
            "a human\n",
            "a creator\n",
            "a futurist\n"
          ]
        }
      ]
    },
    {
      "cell_type": "code",
      "source": [
        "s =\"\"\n",
        "s += \"I am\"\n",
        "s += \" \"\n",
        "s += \"YOUR\"\n",
        "s += \" \"\n",
        "s+= \"FUTURE\"\n",
        "s+= \".\"\n",
        "print(s)"
      ],
      "metadata": {
        "colab": {
          "base_uri": "https://localhost:8080/"
        },
        "id": "6DaIvyD8kk1b",
        "outputId": "bacef4a8-d7f5-42b6-f7f7-899e93bb28bc"
      },
      "execution_count": null,
      "outputs": [
        {
          "output_type": "stream",
          "name": "stdout",
          "text": [
            "I am YOUR FUTURE.\n"
          ]
        }
      ]
    },
    {
      "cell_type": "markdown",
      "source": [
        "sort2.py"
      ],
      "metadata": {
        "id": "OUOJ2ZtwlKFO"
      }
    },
    {
      "cell_type": "code",
      "source": [
        "#Modified after exercices\n",
        "in_str = input('Enter items (e.g. Ali, Mehmet)')\n",
        "a_list = in_str.split(',') #white space by default\n",
        "print('Here is the sorted list...')\n",
        "b_list=[]\n",
        "s = ''\n",
        "for i in a_list:\n",
        "  b_list.append(i.strip())\n",
        "print(b_list, end='') #I took this function out of the loop."
      ],
      "metadata": {
        "id": "OtTSQ0nRlH5-"
      },
      "execution_count": null,
      "outputs": []
    },
    {
      "cell_type": "code",
      "source": [
        "#Modified after exercices\n",
        "in_str = input('Enter items (e.g. Ali, Mehmet)')\n",
        "a_list = in_str.split(',') #white space by default\n",
        "print('Here is the sorted list...')\n",
        "s = str()\n",
        "for i in a_list: #I used the loop to execute concatenation.\n",
        "  s += i.strip()\n",
        "  s += ', '\n",
        "#print(s)\n",
        "print(s[:-2], '.', sep='')"
      ],
      "metadata": {
        "colab": {
          "base_uri": "https://localhost:8080/"
        },
        "id": "8vSrOb9vqOGz",
        "outputId": "9fe15131-67f8-47c9-cf65-4e259ba90208"
      },
      "execution_count": null,
      "outputs": [
        {
          "output_type": "stream",
          "name": "stdout",
          "text": [
            "Enter items (e.g. Ali, Mehmet)Ali, Ayse\n",
            "Here is the sorted list...\n",
            "Ali, Ayse.\n"
          ]
        }
      ]
    },
    {
      "cell_type": "markdown",
      "source": [
        "Experimental"
      ],
      "metadata": {
        "id": "tBn5d9MBT1bG"
      }
    },
    {
      "cell_type": "code",
      "source": [
        "#Modified after exercices and gpt.\n",
        "\n",
        "from fractions import Fraction\n",
        "\n",
        "while True: #try & except functions can save your program.\n",
        "  try:\n",
        "\n",
        "    a = input(\"Enter a \") #is broken number true?\n",
        "    b = input(\"Enter b\") #is broken number true?\n",
        "    #if '/' in N:\n",
        "      #f = Fraction(N)\n",
        "    #else:\n",
        "    f = a/b\n",
        "    n = float\n",
        "    print (str(f))\n",
        "\n",
        "    #if f != 0:\n",
        "      #s = str(f)\n",
        "      #z = len(s)-s.index('.') - 1 if '.' in s else 0 #correction proposed by gpt #-1 (0-based indexing), -1 if '.' in s.\n",
        "      #print(f)\n",
        "      #print(len(s))\n",
        "      #print(\"The precision is\", z, \"digits.\")\n",
        "\n",
        "    #if f == 0:\n",
        "      #print(\"Exiting the program.\")\n",
        "      #break\n",
        "\n",
        "  except ValueError:\n",
        "    print(\"Invalid input. Please enter a valid number\")"
      ],
      "metadata": {
        "id": "w53QbQRNTPXs"
      },
      "execution_count": null,
      "outputs": []
    },
    {
      "cell_type": "code",
      "source": [
        "f = float (1/3)\n",
        "print(str(f))\n",
        "print(len(str(f)))\n",
        "print(s.index('.'))"
      ],
      "metadata": {
        "colab": {
          "base_uri": "https://localhost:8080/"
        },
        "id": "1JZjz_uhKP8N",
        "outputId": "551795b4-1b8f-4682-b82e-93da79e23cd6"
      },
      "execution_count": null,
      "outputs": [
        {
          "output_type": "stream",
          "name": "stdout",
          "text": [
            "0.3333333333333333\n",
            "18\n",
            "2\n"
          ]
        }
      ]
    },
    {
      "cell_type": "markdown",
      "source": [
        ".string\n"
      ],
      "metadata": {
        "id": "ZzmY39rZGhDJ"
      }
    },
    {
      "cell_type": "code",
      "source": [
        "s = \"***!!!+++Fatih Somer+++!!!**     \"\n",
        "s = s.strip(\"+!* \") #\"+\"; \"!\"; \"*\", \" \" are removed.\n",
        "print(s)"
      ],
      "metadata": {
        "colab": {
          "base_uri": "https://localhost:8080/"
        },
        "id": "GcqPnVvXGiYm",
        "outputId": "f3d57b04-b1c0-425f-9a29-4ea771d98453"
      },
      "execution_count": null,
      "outputs": [
        {
          "output_type": "stream",
          "name": "stdout",
          "text": [
            "Fatih Somer\n"
          ]
        }
      ]
    },
    {
      "cell_type": "markdown",
      "source": [
        "Exercies\n"
      ],
      "metadata": {
        "id": "lIDooc0M03l1"
      }
    },
    {
      "cell_type": "code",
      "source": [
        "#Modified to move from -1 to -n\n",
        "#I used while True: to get a loop for general use.\n",
        "\n",
        "while True:\n",
        "  N = int(input(\"Please give a number: \"))\n",
        "  if N > 0:\n",
        "    prod = 1\n",
        "    for i in range(1,N+1): #For 1 to N inclusive.\n",
        "      prod *= i\n",
        "    s = str(prod) #Convert factorial to string s\n",
        "    n = len(s) #n = length of string s\n",
        "    z = 0\n",
        "    y = -1\n",
        "    while -n < y and s[y] == \"0\":\n",
        "      z += 1\n",
        "      y -= 1\n",
        "    out_str = \"{}! is {}\"\n",
        "    print(out_str.format(N, s))\n",
        "    out_strII = \"The number of trailing zeros is {}.\"\n",
        "    print(out_strII.format(z))\n",
        "  if N == 0:\n",
        "    print (\"STOP!\")\n",
        "    break"
      ],
      "metadata": {
        "colab": {
          "base_uri": "https://localhost:8080/"
        },
        "id": "ysoiUn7T5Mgy",
        "outputId": "4a7cfe09-fea4-4438-b0b4-97c75bedea79"
      },
      "execution_count": null,
      "outputs": [
        {
          "output_type": "stream",
          "name": "stdout",
          "text": [
            "Please give a number: 10\n",
            "10! is 3628800\n",
            "The number of trailing zeros is 2.\n",
            "Please give a number: 2\n",
            "2! is 2\n",
            "The number of trailing zeros is 0.\n",
            "Please give a number: 0\n",
            "STOP!\n"
          ]
        }
      ]
    },
    {
      "cell_type": "markdown",
      "source": [
        "# Chapter 6: List Comprehension and Enumeration"
      ],
      "metadata": {
        "id": "kazuV4wxzQJL"
      }
    },
    {
      "cell_type": "markdown",
      "source": [
        "Justification R, L, C & Listing"
      ],
      "metadata": {
        "id": "QXSmbYsIAqGG"
      }
    },
    {
      "cell_type": "code",
      "source": [
        "#for i in range(2,100,2):\n",
        "  #print(\"{:>15}\".format(i))\n",
        "fib_list = [1, 2, 4, 5, 8, 13, 21, 34, 55, 89, 144]\n",
        "format_str = \"{:>2}.{:>4}\" #format specification string\n",
        "for i, item in enumerate(fib_list, 1):\n",
        "  print(format_str.format(i, item))"
      ],
      "metadata": {
        "id": "EAmUJvmiQ0Fz"
      },
      "execution_count": null,
      "outputs": []
    },
    {
      "cell_type": "code",
      "source": [
        "x = [\"Python\", \"is\", \"cool\"]\n",
        "print(\" \".join(x))"
      ],
      "metadata": {
        "id": "tn9G02ue_SXq"
      },
      "execution_count": null,
      "outputs": []
    },
    {
      "cell_type": "code",
      "source": [
        "nums = [i * j for i in range(1,4) for j in range(1,4)]\n",
        "print(nums)\n",
        "\n",
        "#or\n",
        "\n",
        "nums = []\n",
        "for i in range(1,4):\n",
        "  for j in range(1,4):\n",
        "    if i >= j:\n",
        "       nums.append(i*j)\n",
        "print(nums)\n",
        "\n",
        "#or\n",
        "\n",
        "num_list = [i * j for i in range(1,4) #five lines of code replaced by one virtual line.\n",
        "                  for j in range(1,4) if i >= j]\n",
        "print(num_list)\n",
        "\n",
        "num_list_II = [i * j * k for i in range(1,4)\n",
        "                         for j in range(1,4)\n",
        "                         for k in range(1,4) if i == j == k]\n",
        "print(num_list_II)"
      ],
      "metadata": {
        "colab": {
          "base_uri": "https://localhost:8080/"
        },
        "id": "9rBAhfZAjoF3",
        "outputId": "e70bac22-ecbe-404b-b1d9-deca92e62a26"
      },
      "execution_count": null,
      "outputs": [
        {
          "output_type": "stream",
          "name": "stdout",
          "text": [
            "[1, 2, 3, 2, 4, 6, 3, 6, 9]\n",
            "[1, 2, 4, 3, 6, 9]\n",
            "[1, 2, 4, 3, 6, 9]\n",
            "[1, 8, 27]\n"
          ]
        }
      ]
    },
    {
      "cell_type": "code",
      "source": [
        "comps = {j for i in range(2,n) for j in range(2*i, n, i)}\n",
        "{1,2,3} == {2,1,3}"
      ],
      "metadata": {
        "colab": {
          "base_uri": "https://localhost:8080/"
        },
        "id": "nQNqb8H9thUp",
        "outputId": "7d25e7d5-e47d-41b5-814b-c6858ce5e256"
      },
      "execution_count": null,
      "outputs": [
        {
          "output_type": "execute_result",
          "data": {
            "text/plain": [
              "True"
            ]
          },
          "metadata": {},
          "execution_count": 11
        }
      ]
    },
    {
      "cell_type": "markdown",
      "source": [
        "Pytagorean Triples"
      ],
      "metadata": {
        "id": "ETyFn9BSOqK1"
      }
    },
    {
      "cell_type": "code",
      "source": [
        "def pytagorean_triples():\n",
        "  n = int(input(\"The maximum number is: \"))\n",
        "  format_str=\"{:>3}{:>3}{:>3}\"\n",
        "  nums = range(1,n)\n",
        "  trips = [(a, b, c) for a in nums for b in nums for c in nums if a*a + b*b == c*c]\n",
        "  #print(trips)\n",
        "\n",
        "  #for (a, b, c) in trips:\n",
        "    #print(format_str.format([0]== a, [1]== b, [2]== c))\n",
        "\n",
        "pytagorean_triples()"
      ],
      "metadata": {
        "id": "5MxhkTx5OpBp"
      },
      "execution_count": null,
      "outputs": []
    },
    {
      "cell_type": "code",
      "source": [
        "def pytagorean_doubles_II():\n",
        "\n",
        "  #n = int(input(\"The maximum number is: \"))\n",
        "  format_str=\"{:>3}.{:>3}{:>3}{:>3}\"\n",
        "  nums = range(1,10)\n",
        "  doubles = [(a, b) for a in nums for b in nums if a*a + b*b < 100]\n",
        "\n",
        "  #print(doubles)\n",
        "  for i, item in enumerate(doubles, 1 ):\n",
        "   #print(doubles)\n",
        "\n",
        "      print(format_str.format(i, item[0]**2, item[1]**2, item[0]**2 + item[1]**2))\n",
        "\n",
        "  #for (a, b, c) in trips:\n",
        "    #print(format_str.format([0]== a, [1]== b, [2]== c))\n",
        "\n",
        "pytagorean_triples_II()\n"
      ],
      "metadata": {
        "colab": {
          "base_uri": "https://localhost:8080/"
        },
        "id": "Nt7q-mEChEVd",
        "outputId": "6f67116f-3853-4f87-a1ef-c0b69576a741"
      },
      "execution_count": null,
      "outputs": [
        {
          "output_type": "stream",
          "name": "stdout",
          "text": [
            "  1.  1  1  2\n",
            "  2.  1  4  5\n",
            "  3.  1  9 10\n",
            "  4.  1 16 17\n",
            "  5.  1 25 26\n",
            "  6.  1 36 37\n",
            "  7.  1 49 50\n",
            "  8.  1 64 65\n",
            "  9.  1 81 82\n",
            " 10.  4  1  5\n",
            " 11.  4  4  8\n",
            " 12.  4  9 13\n",
            " 13.  4 16 20\n",
            " 14.  4 25 29\n",
            " 15.  4 36 40\n",
            " 16.  4 49 53\n",
            " 17.  4 64 68\n",
            " 18.  4 81 85\n",
            " 19.  9  1 10\n",
            " 20.  9  4 13\n",
            " 21.  9  9 18\n",
            " 22.  9 16 25\n",
            " 23.  9 25 34\n",
            " 24.  9 36 45\n",
            " 25.  9 49 58\n",
            " 26.  9 64 73\n",
            " 27.  9 81 90\n",
            " 28. 16  1 17\n",
            " 29. 16  4 20\n",
            " 30. 16  9 25\n",
            " 31. 16 16 32\n",
            " 32. 16 25 41\n",
            " 33. 16 36 52\n",
            " 34. 16 49 65\n",
            " 35. 16 64 80\n",
            " 36. 16 81 97\n",
            " 37. 25  1 26\n",
            " 38. 25  4 29\n",
            " 39. 25  9 34\n",
            " 40. 25 16 41\n",
            " 41. 25 25 50\n",
            " 42. 25 36 61\n",
            " 43. 25 49 74\n",
            " 44. 25 64 89\n",
            " 45. 36  1 37\n",
            " 46. 36  4 40\n",
            " 47. 36  9 45\n",
            " 48. 36 16 52\n",
            " 49. 36 25 61\n",
            " 50. 36 36 72\n",
            " 51. 36 49 85\n",
            " 52. 49  1 50\n",
            " 53. 49  4 53\n",
            " 54. 49  9 58\n",
            " 55. 49 16 65\n",
            " 56. 49 25 74\n",
            " 57. 49 36 85\n",
            " 58. 49 49 98\n",
            " 59. 64  1 65\n",
            " 60. 64  4 68\n",
            " 61. 64  9 73\n",
            " 62. 64 16 80\n",
            " 63. 64 25 89\n",
            " 64. 81  1 82\n",
            " 65. 81  4 85\n",
            " 66. 81  9 90\n",
            " 67. 81 16 97\n"
          ]
        }
      ]
    },
    {
      "cell_type": "markdown",
      "source": [
        "Sieve of Erasthosthenes 2"
      ],
      "metadata": {
        "id": "jcElMnlenT0O"
      }
    },
    {
      "cell_type": "code",
      "source": [
        "\n",
        "#Exercises\n",
        "n = int(input(\"Please enter max. limit: \"))\n",
        "#exp_str = \"The prime numbers are: {}\"\n",
        "print(\"These are the prime numbers: \")\n",
        "format_str = \"{:>2}.{:>4}\"\n",
        "prime_numbers = []\n",
        "comp_list = [j for i in range(2, n) # initial j is the value of expression,\n",
        "               for j in range(i**2, n, i)]\n",
        "prime_list = [i for i in range (2, n)\n",
        "                if i not in comp_list]\n",
        "for i, item in enumerate(prime_list, 1):\n",
        "  print (format_str.format(i, item))\n",
        "\n",
        "#print(\"These are the prime numbers: \", prime_list, sep=\"\")\n",
        "#fin_list = prime_numbers.append(prime_list)\n",
        "#out_str = exp_str.format(fin_list)\n",
        "#print(out_str)\n"
      ],
      "metadata": {
        "colab": {
          "base_uri": "https://localhost:8080/"
        },
        "id": "FI0Etj4UnSb4",
        "outputId": "49ab41ad-d528-4015-b654-fa547beec831"
      },
      "execution_count": null,
      "outputs": [
        {
          "output_type": "stream",
          "name": "stdout",
          "text": [
            "Please enther max. limit: 30\n",
            "These are the prime numbers: \n",
            " 1.   2\n",
            " 2.   3\n",
            " 3.   5\n",
            " 4.   7\n",
            " 5.  11\n",
            " 6.  13\n",
            " 7.  17\n",
            " 8.  19\n",
            " 9.  23\n",
            "10.  29\n"
          ]
        }
      ]
    },
    {
      "cell_type": "code",
      "source": [
        "def tri_num(n):\n",
        "  n = int(input(\"Please enter max. limit: \"))\n",
        "  format_str = \"{:>2}.{:>5}\"\n",
        "  tri_num_list= []\n",
        "  tri_num_list = [int(i* (i+1)/2) for i in range(1, n+1)]\n",
        "  for i, item in enumerate(tri_num_list, 1):\n",
        "    if item % 2 == 1: #The program thus prints only the odd numbers.\n",
        "      print(format_str.format(i, item))\n",
        "\n",
        "#and\n",
        "\n",
        "tri_num(n)"
      ],
      "metadata": {
        "colab": {
          "base_uri": "https://localhost:8080/"
        },
        "id": "B8HbRW956Fwq",
        "outputId": "b74e8396-6679-4a5b-8c3d-f9ed4acc34db"
      },
      "execution_count": null,
      "outputs": [
        {
          "output_type": "stream",
          "name": "stdout",
          "text": [
            "Please enter max. limit: 10\n",
            " 1.    1\n",
            " 2.    3\n",
            " 5.   15\n",
            " 6.   21\n",
            " 9.   45\n",
            "10.   55\n"
          ]
        }
      ]
    },
    {
      "cell_type": "code",
      "source": [
        "#next_gen\n",
        "\n",
        "def tri_num_II(n):\n",
        "\n",
        "  n = int(input(\"Please enter max. limit: \"))\n",
        "\n",
        "  format_str = \"{:>2}.{:>5}\"\n",
        "  tri_num_list_even= []\n",
        "  tri_num_list_odd= []\n",
        "  tri_num_list = [int(i* (i+1)/2) for i in range(1, n+1)]\n",
        "\n",
        "  for item in tri_num_list:\n",
        "    if item % 2 == 0:\n",
        "      tri_num_list_even.append(item)\n",
        "  print(\"The even tri. numbers are: \", tri_num_list_even, \".\", sep=\"\")\n",
        "\n",
        "  for item in tri_num_list:\n",
        "    if item not in tri_num_list_even:\n",
        "      tri_num_list_odd.append(item)\n",
        "  print(\"The odd tri. numbers are: \", tri_num_list_odd, \".\", sep=\"\")\n",
        "  print(\"-\", \"-\", \"-\")\n",
        "  print(\"Have a nice day!\")\n",
        "\n",
        "\n",
        "#and\n",
        "\n",
        "tri_num_II(n)\n"
      ],
      "metadata": {
        "colab": {
          "base_uri": "https://localhost:8080/"
        },
        "id": "mp7iVweqA7qm",
        "outputId": "9680b6a0-5e30-4a0f-857e-556bd8110aab"
      },
      "execution_count": null,
      "outputs": [
        {
          "output_type": "stream",
          "name": "stdout",
          "text": [
            "Please enter max. limit: 10\n",
            "The even tri. numbers are: [6, 10, 28, 36].\n",
            "The odd tri. numbers are: [1, 3, 15, 21, 45, 55].\n",
            "- - -\n",
            "Have a nice day!\n"
          ]
        }
      ]
    },
    {
      "cell_type": "markdown",
      "source": [
        "Exercices\n"
      ],
      "metadata": {
        "id": "5lbEQWtZzcjf"
      }
    },
    {
      "cell_type": "code",
      "source": [
        "#Exercises\n",
        "#for i in range(2,100,2):\n",
        "  #print(\"{:>15}\".format(i))\n",
        "fib_list = [1, 2, 4, 5, 8, 13, 21, 34, 55, 89, 144]\n",
        "format_str = \"{:>2}.{:>4}\" #format spef. string\n",
        "for i in range(len(fib_list)): #i thus starts from 1, continues till N. It generares the indices of the \"fib_list\", and then we use these indices to access elements in the loop.\n",
        "  item = fib_list[i] #item is defined to be i th element of the list.\n",
        "  print(format_str.format(i+1, item)) #i+1 is used to start counting from 1."
      ],
      "metadata": {
        "id": "tWcyeY96XYi1"
      },
      "execution_count": null,
      "outputs": []
    },
    {
      "cell_type": "code",
      "source": [
        "#Fibonacci Numbers\n",
        "#To be improved.\n",
        "N = int(input(\"The limit is: \"))\n",
        "i = 1\n",
        "b = 1\n",
        "#fibonacci_numbers = []\n",
        "#fibonacci_numbers.append(str(i))\n",
        "#out_str = \", \".join(fibonacci_numbers)\n",
        "print(1)\n",
        "while i <= N:\n",
        "  i, b = b, i+b\n",
        "  #print(out_str)\n",
        "  print(i, end=\", \") #end=\"\" is used to give it string form."
      ],
      "metadata": {
        "id": "emLib8m9fqWx"
      },
      "execution_count": null,
      "outputs": []
    },
    {
      "cell_type": "markdown",
      "source": [
        "Fib. Numbers"
      ],
      "metadata": {
        "id": "9-WX-F5UAjpV"
      }
    },
    {
      "cell_type": "code",
      "source": [
        "#for i in range(2,100,2):\n",
        "  #print(\"{:>15}\".format(i))\n",
        "fib_list = [1, 1, 2, 3, 5, 8, 13, 21, 34, 55, 89, 144]\n",
        "format_str = \"{:>3}.{:>5}{:>5}\" #format specification string\n",
        "\n",
        "dif_list = []\n",
        "dif_list[0:0] = [\"none\"]\n",
        "for k in range (0,11):\n",
        "  dif = fib_list[k+1]-fib_list[k] #difference between i+1 and i th element.\n",
        "  dif_list.append(dif)\n",
        "\n",
        "for i, item in enumerate(fib_list, 1): #1 means starting from 1.\n",
        "      print(format_str.format(i, item, dif_list[i-1])) #python gives i in column format by default."
      ],
      "metadata": {
        "colab": {
          "base_uri": "https://localhost:8080/"
        },
        "id": "B5lN4qA2yEjN",
        "outputId": "0b3ff41a-ab09-4f06-d1d9-774686df808f"
      },
      "execution_count": null,
      "outputs": [
        {
          "output_type": "stream",
          "name": "stdout",
          "text": [
            "  1.    1 none\n",
            "  2.    1    0\n",
            "  3.    2    1\n",
            "  4.    3    1\n",
            "  5.    5    2\n",
            "  6.    8    3\n",
            "  7.   13    5\n",
            "  8.   21    8\n",
            "  9.   34   13\n",
            " 10.   55   21\n",
            " 11.   89   34\n",
            " 12.  144   55\n"
          ]
        }
      ]
    },
    {
      "cell_type": "markdown",
      "source": [
        "This is an example of writing succintive codes. Compare above with below."
      ],
      "metadata": {
        "id": "EFLWYziDD94a"
      }
    },
    {
      "cell_type": "code",
      "source": [
        "N = int(input(\"Max lim. please: \"))\n",
        "sqr_list = [i*i*i for i in range(1,N+1)]\n",
        "format_str = \"{:>4} {:>4} {:>4}\"\n",
        "old_val = 0\n",
        "for i, item in enumerate(sqr_list, 1):\n",
        "  print(format_str.format(i, item, item-old_val))\n",
        "  old_val = item #old_val equals the next item inside the loop. #each time its value is reset."
      ],
      "metadata": {
        "id": "bBF_smVCAdcC",
        "colab": {
          "base_uri": "https://localhost:8080/"
        },
        "outputId": "152a3b34-dc8d-4ebf-bfc0-8a12b26f81fe"
      },
      "execution_count": null,
      "outputs": [
        {
          "output_type": "stream",
          "name": "stdout",
          "text": [
            "Max lim. please: 10\n",
            "   1    1    1\n",
            "   2    8    7\n",
            "   3   27   19\n",
            "   4   64   37\n",
            "   5  125   61\n",
            "   6  216   91\n",
            "   7  343  127\n",
            "   8  512  169\n",
            "   9  729  217\n",
            "  10 1000  271\n"
          ]
        }
      ]
    },
    {
      "cell_type": "code",
      "source": [
        "nums = [1, 2, 3]\n",
        "\n",
        "#nums = []\n",
        "#for i in range(1,4):\n",
        "#nums.append(i)\n",
        "\n",
        "for i, item in enumerate(nums): #The enumarate function provides an index number (in this case, set to start at 1.)\n",
        "  print(item, end=\" \")\n",
        "if i % 3 == 0:\n",
        "  print()"
      ],
      "metadata": {
        "colab": {
          "base_uri": "https://localhost:8080/"
        },
        "id": "zlpJkTaTSFo6",
        "outputId": "ed6aedbb-a136-483d-c9fa-af0db9522e5f"
      },
      "execution_count": null,
      "outputs": [
        {
          "output_type": "stream",
          "name": "stdout",
          "text": [
            "1 2 3 "
          ]
        }
      ]
    },
    {
      "cell_type": "markdown",
      "source": [
        "# Chapter 5: Python Lists"
      ],
      "metadata": {
        "id": "vJSA5PZTyWX_"
      }
    },
    {
      "cell_type": "markdown",
      "source": [
        "Sieve of Eratosthenes"
      ],
      "metadata": {
        "id": "xb_GQedtQs_Y"
      }
    },
    {
      "cell_type": "code",
      "source": [
        "#Sieve of Eratosthenes\n",
        "#Variables are \"prime\" & \"i\"\n",
        "bool_list = [True]*100\n",
        "for prime in range(2,100): #prime can take a value btw. 2 and 99.\n",
        "  if bool_list[prime]: #if the function ran with prime leads to statement \"true\": print it out.\n",
        "    print(prime, end=\", \")\n",
        "    for i in range(prime*2, 100, prime): #but all i starting from multiple of 2 and , till 100 leads to statment \"false\": continue. #Inner loop; prime*2 == prime\n",
        "      bool_list[i] = False"
      ],
      "metadata": {
        "id": "j1d8YuuNSPYP"
      },
      "execution_count": null,
      "outputs": []
    },
    {
      "cell_type": "code",
      "source": [
        "#Optimizing the code\n",
        "#Sieve of Erastosthenes II\n",
        "bool_list = [True]*100\n",
        "primes_found_list = [] #Here is a list created.\n",
        "N = int(input(\"Give the upper limit: \"))\n",
        "for prime in range(2,N): #prime can take a value btw. 2 and N (incl).\n",
        "  if bool_list[prime]: #if the function ran with prime leads to statement \"true\": print it out.\n",
        "    primes_found_list.append(str(prime)) #instead of print function, we use .append to put primes into the list in string form. str is a built-in function that converts an object into a string representation.\n",
        "    while prime in range(prime*prime, N, prime): #but all prime starting from prime**2 and , till N leads to statment \"false\": continue. #Inner loop; prime*2 == prime == prime*prime, but not same fast.\n",
        "      bool_list[prime] = False\n",
        "      break\n",
        "primes_found = len(primes_found_list) #It actually worked only with \"len\".\n",
        "out_str = \", \".join(primes_found_list) #Gives a form to the output string, indicates how ouputs parameters are separated.\n",
        "print(out_str)\n",
        "out_str_number = \"The number of prime numbers is {}. Have a nice day!\"\n",
        "print(out_str_number.format(N))\n"
      ],
      "metadata": {
        "id": "qeD0EPzoFoBl"
      },
      "execution_count": null,
      "outputs": []
    },
    {
      "cell_type": "code",
      "source": [
        "my_list = [1, 2, 3, 4]\n",
        "for i in range(len(my_list)):\n",
        "  my_list[i] = 0\n",
        "0 in my_list"
      ],
      "metadata": {
        "id": "Cf8yxbsXXXud"
      },
      "execution_count": null,
      "outputs": []
    },
    {
      "cell_type": "code",
      "source": [
        "beat_list = [\"John\", \"Paul\", \"Mehmet\"]\n",
        "for i, b_str in enumerate(beat_list, start=1): # i and b_str are two different indices.\n",
        "  print(i, \". \", b_str, sep=\"\")"
      ],
      "metadata": {
        "id": "81VSlOVmgP9D"
      },
      "execution_count": null,
      "outputs": []
    },
    {
      "cell_type": "code",
      "source": [
        "bool_list = [True]*100\n",
        "primes_found_list = [] #Here is a list created.\n",
        "for prime in range(2,100): #prime can take a value btw. 2 and 99 (incl).\n",
        "  if bool_list[prime]: #if the function ran with prime leads to statement \"true\": print it out.\n",
        "    primes_found_list.append(str(prime)) #instead of print function, we use .append to put primes into the list in string form.\n",
        "    for i in range(prime*prime, 100, prime): #but all i starting from multiple of 2 and , till 100 leads to statment \"false\": continue. #Inner loop; prime*2 == prime == prime*prime, but not same fast.\n",
        "      bool_list[i] = False\n",
        "out_str = \", \".join(primes_found_list) #Gives a form to the output string, indicates how ouputs parameters are separated.\n",
        "print(out_str)\n"
      ],
      "metadata": {
        "id": "6zw-2-5MSRmE"
      },
      "execution_count": null,
      "outputs": []
    },
    {
      "cell_type": "markdown",
      "source": [
        "# Solved"
      ],
      "metadata": {
        "id": "MQgPbCFBUB6s"
      }
    },
    {
      "cell_type": "code",
      "source": [
        "#Diyezli yerler çalışmıyor. Basit bir kod aslında ama. Chatgpt bu kodu önerdi, işlem sonucunda kaç tane sıfır var onu sayıp söylemesini istedim ama olmadı.\n",
        "def fact3():\n",
        "    while True:\n",
        "        n = int(input(\"Calculate factorial for which n?\"))\n",
        "        prod = 1\n",
        "        for i in range(1, n+1):\n",
        "            prod *= i\n",
        "\n",
        "        prod_str = str(prod)\n",
        "        count_zeros = prod_str.count(\"0\")\n",
        "        print(\"The result is\", prod)\n",
        "\n",
        "        print(f\"Number of zeros in the result: {count_zeros}\")\n",
        "\n",
        "        if n == 0:\n",
        "            print (\"Thank you! \")\n",
        "            break"
      ],
      "metadata": {
        "id": "wsvrWhAUT_V_"
      },
      "execution_count": null,
      "outputs": []
    },
    {
      "cell_type": "code",
      "source": [
        "fact3()"
      ],
      "metadata": {
        "colab": {
          "base_uri": "https://localhost:8080/"
        },
        "id": "i5FbKKENyB_o",
        "outputId": "c2ef3fa9-e794-4476-a58c-191ce644d128"
      },
      "execution_count": null,
      "outputs": [
        {
          "output_type": "stream",
          "name": "stdout",
          "text": [
            "Calculate factorial for which n?3\n",
            "The result is 6\n",
            "Number of zeros in the result: 0\n",
            "Calculate factorial for which n?10\n",
            "The result is 3628800\n",
            "Number of zeros in the result: 2\n",
            "Calculate factorial for which n?20\n",
            "The result is 2432902008176640000\n",
            "Number of zeros in the result: 7\n",
            "Calculate factorial for which n?0\n",
            "The result is 1\n",
            "Number of zeros in the result: 0\n",
            "Thank you! \n"
          ]
        }
      ]
    },
    {
      "cell_type": "code",
      "execution_count": null,
      "metadata": {
        "id": "hsKIhX-VBnUU"
      },
      "outputs": [],
      "source": [
        "\n",
        "#Koda yapilmasi gereken: Kodun modifiye edilmesi gerekiyor. Dogru rakam bulununca \"success\" diyor onun yerine yeniden rakam\n",
        "#secip basa dönmesi lazim onu yapamadim.\n",
        "\n",
        "#Excercise: Revise the loop so that it repeats\n",
        "#the game on to the end user wants to stop the user indicates this by entering 0 at any time to make this\n",
        "#work the \"success\" Alternative will need to choose a new random number and then continue the game you will\n",
        "#also need to add an elif alternative that tests ans and is equal to 0 at which point it should break.\n",
        "\n",
        "import random #It enables the program to use the function in the Python randomization library.\n",
        "def loto():\n",
        "    print(\"Define me the range: \")\n",
        "    N = int(input(\"Enter the range: \"))\n",
        "    exp = \"The numbers are between 1 and {}, if you press 0, the game stops.\" #exp stands for expression.\n",
        "    output_exp=exp.format(N)\n",
        "    print(output_exp)\n",
        "    n = random.randint(1, N)\n",
        "\n",
        "    while True: #Do always, it creates an infinite loop.\n",
        "        ans = int(input(\"Enter a number, please: \"))\n",
        "        if ans == n:\n",
        "            print(\"Success! You win!\")\n",
        "            #break\n",
        "            n = random.randint(1, N)\n",
        "        elif ans > n:\n",
        "            print(\"Too high :(\")\n",
        "        elif ans == 0:\n",
        "            print(\"Finish! \")\n",
        "            break\n",
        "        else:\n",
        "            print(\"Too low :(\")\n",
        "\n"
      ]
    },
    {
      "cell_type": "code",
      "source": [
        "loto()"
      ],
      "metadata": {
        "colab": {
          "base_uri": "https://localhost:8080/"
        },
        "id": "9fGU2BIXBrP8",
        "outputId": "3a51154b-5b8f-4087-94fd-1d5454e24f61"
      },
      "execution_count": null,
      "outputs": [
        {
          "output_type": "stream",
          "name": "stdout",
          "text": [
            "Define me the range: \n",
            "Enter the range: 3\n",
            "The numbers are between 1 and 3, if you press 0, the game stops.\n",
            "Enter a number, please: 1\n",
            "Success! You win!\n",
            "Enter a number, please: 2\n",
            "Success! You win!\n",
            "Enter a number, please: 3\n",
            "Too high :(\n",
            "Enter a number, please: 2\n",
            "Too high :(\n",
            "Enter a number, please: 1\n",
            "Success! You win!\n"
          ]
        }
      ]
    },
    {
      "cell_type": "markdown",
      "source": [
        "#Random"
      ],
      "metadata": {
        "id": "I93dPN1t-qFI"
      }
    },
    {
      "cell_type": "code",
      "source": [
        "# We import matplotlib from pylot.\n",
        "import matplotlib.pyplot as plt\n",
        "import numpy as np\n",
        "import math\n",
        "\n",
        "# Function to calculate O(N^3)\n",
        "def cubic_function(N):\n",
        "\n",
        "#np.log for NumPy Arrays.\n",
        "    return 3*np.log(N)\n",
        "\n",
        "# Generate data for visualization\n",
        "N_values = np.arange(1, 21)  # You can adjust the range as needed\n",
        "O_N3_values = cubic_function(N_values)\n",
        "\n",
        "# Plotting\n",
        "plt.figure(figsize=(8, 6))\n",
        "\n",
        "#plt.plot(x-axis, y-axis, label, marker (circle, square, etc.), linestyle, color)\n",
        "plt.plot(N_values, O_N3_values, label='O(N^3)', marker='o', linestyle='-', color='orange')\n",
        "plt.title('O((log N)^3) Complexity Visualization')\n",
        "plt.xlabel('Input Size (N)')\n",
        "plt.ylabel('Computational Cost')\n",
        "plt.grid(True)\n",
        "plt.legend()\n",
        "plt.show()\n"
      ],
      "metadata": {
        "colab": {
          "base_uri": "https://localhost:8080/",
          "height": 564
        },
        "id": "qXOrCYUNMK0f",
        "outputId": "cae5ade3-5561-4f91-8e07-a7ed64d07d73"
      },
      "execution_count": null,
      "outputs": [
        {
          "output_type": "display_data",
          "data": {
            "text/plain": [
              "<Figure size 800x600 with 1 Axes>"
            ],
            "image/png": "[encoded data removed]"
          },
          "metadata": {}
        }
      ]
    },
    {
      "cell_type": "code",
      "source": [
        "\n",
        "# Code is working.\n",
        "# First, reflect on your algorithm and then start with coding.\n",
        "\n",
        "def main():\n",
        "\n",
        "  str_1=''\n",
        "  str_2=''\n",
        "  #s = 'Merhabe benim adim Fatih Somer'\n",
        "  s = 'KÜTÜK'\n",
        "\n",
        "  for i in range(0, len(s)):\n",
        "    str_1 += ' '\n",
        "    str_1 += s[i]\n",
        "\n",
        "    if str_1.islower():\n",
        "      print('No!')\n",
        "\n",
        "  print(str_1)\n",
        "\n",
        "  for i in range(0, 2*len(s)):\n",
        "    str_2 += str_1[i].strip(' ')\n",
        "\n",
        "  for i in range(0, len(str_2)):\n",
        "   str_2 = str_2.upper()\n",
        "\n",
        "  print(' ' + str_2)\n",
        "  print(' ')\n",
        "\n",
        "\n",
        "\n",
        "# i = 0,1,2: i = 0 --> ==? a = -1,-2,-3; then continues.\n",
        "  is_palindrome = True\n",
        "  for i in range(0, len(s)//2):\n",
        "    #for a in range(-1, -len(s)-1, -1):\n",
        "    if str_2[i] != str_2[-i-1]:\n",
        "        is_palindrome = False\n",
        "        #break -----> If a match is found, exit the inner loop.\n",
        "      #else:\n",
        "        #print('Not the same')\n",
        "\n",
        "  if is_palindrome:\n",
        "    print(' '+ 'It is a palindrome.')\n",
        "  else:\n",
        "    print(' '+ 'No, it is not a palindrome!')\n",
        "\n",
        "  if str_2 == str_2[-1::-1]:\n",
        "    print(' ' + 'So, Palindrome!')\n",
        "\n",
        "    #is_palin = (s == s[-1::-1]) #A step value of -1 means to move backward through the string.\n",
        "\n",
        "\n",
        "main()"
      ],
      "metadata": {
        "colab": {
          "base_uri": "https://localhost:8080/"
        },
        "id": "AqUN_jvhr7Xa",
        "outputId": "b13b3a14-16e9-40d4-86b7-d2d66c430bf3"
      },
      "execution_count": null,
      "outputs": [
        {
          "output_type": "stream",
          "name": "stdout",
          "text": [
            " K Ü T Ü K\n",
            " KÜTÜK\n",
            " \n",
            " It is a palindrome.\n",
            " So, Palindrome!\n"
          ]
        }
      ]
    },
    {
      "cell_type": "code",
      "source": [
        "s = 'Merhaba'\n",
        "str_1 = ''\n",
        "len(s)\n",
        "print(len(s))\n",
        "\n",
        "#output\n",
        "print(s[0:])\n",
        "print(s[-1:-len(s)-1:-1])\n",
        "print(s[len(s)-1])\n",
        "print('')\n",
        "\n",
        "for i in range(0, len(s)):\n",
        "  print(s[i])\n",
        "\n",
        "print('')\n",
        "\n",
        "for i in range(1, len(s)+1):\n",
        "  print(s[-i])\n",
        "\n",
        "print(s[-1:-7])\n",
        "\n",
        "print(str_1)\n",
        "\n",
        "if 'm'.isupper():\n",
        "  print('Yes')\n",
        "else:\n",
        "  print('No')"
      ],
      "metadata": {
        "colab": {
          "base_uri": "https://localhost:8080/"
        },
        "id": "la3H8RUTseUE",
        "outputId": "af639db3-9ec2-4686-aa2a-1adf3317e757"
      },
      "execution_count": null,
      "outputs": [
        {
          "output_type": "stream",
          "name": "stdout",
          "text": [
            "7\n",
            "Merhaba\n",
            "abahreM\n",
            "a\n",
            "\n",
            "M\n",
            "e\n",
            "r\n",
            "h\n",
            "a\n",
            "b\n",
            "a\n",
            "\n",
            "a\n",
            "b\n",
            "a\n",
            "h\n",
            "r\n",
            "e\n",
            "M\n",
            "\n",
            "\n",
            "No\n"
          ]
        }
      ]
    },
    {
      "cell_type": "code",
      "source": [
        "def the_game():\n",
        "    print(\"Did you take a pciture\")\n",
        "    int_1 = input(\"Type Y or N: \")\n",
        "    if int_1 == \"Y\":\n",
        "        print(\"Good job!\")\n",
        "    if int_1 == \"N\":\n",
        "        print(\"Not bad!\")\n",
        "    int_2 = int(input(\"Enter the time of your first picture: \"))\n",
        "    list = [int_2, int_2+5, int_2+30, int_2+60]\n",
        "    print(\"Times to check\", list)\n",
        "    int_3 = input(\"Did it exceed 60 min? Y or N? \")\n",
        "    if int_3 == \"Y\":\n",
        "        print(\"The clock is ticking!\")\n",
        "        int_4 = input(\"Did it exceed 4 hours? \")\n",
        "        if int_4 == \"Y\":\n",
        "            print(\"You still have a chance\")\n",
        "        if int_4 == \"N\":\n",
        "            print(\"Nice!\")\n",
        "    if int_3 == \"N\":\n",
        "        print(\"It will work!\")\n"
      ],
      "metadata": {
        "id": "QZTOzTX2-3yf"
      },
      "execution_count": null,
      "outputs": []
    },
    {
      "cell_type": "code",
      "source": [
        "def call_qb():\n",
        "    print(\"qb means question bank, it has open questions.\")"
      ],
      "metadata": {
        "id": "e4CM4QhE-5m9"
      },
      "execution_count": null,
      "outputs": []
    },
    {
      "cell_type": "code",
      "source": [
        "def strategies():\n",
        "    strategies to follow:"
      ],
      "metadata": {
        "id": "WS1x68aX--Yu"
      },
      "execution_count": null,
      "outputs": []
    }
  ]
}